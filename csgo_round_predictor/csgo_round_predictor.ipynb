{
 "cells": [
  {
   "cell_type": "code",
   "execution_count": 1,
   "id": "abstract-bosnia",
   "metadata": {},
   "outputs": [],
   "source": [
    "import pandas as pd\n",
    "\n",
    "# Data van https://www.kaggle.com/christianlillelund/csgo-round-winner-classification\n",
    "round_data = pd.read_csv('data/csgo_round_snapshots.csv')"
   ]
  },
  {
   "cell_type": "code",
   "execution_count": 2,
   "id": "organizational-stretch",
   "metadata": {},
   "outputs": [
    {
     "data": {
      "text/html": [
       "<div>\n",
       "<style scoped>\n",
       "    .dataframe tbody tr th:only-of-type {\n",
       "        vertical-align: middle;\n",
       "    }\n",
       "\n",
       "    .dataframe tbody tr th {\n",
       "        vertical-align: top;\n",
       "    }\n",
       "\n",
       "    .dataframe thead th {\n",
       "        text-align: right;\n",
       "    }\n",
       "</style>\n",
       "<table border=\"1\" class=\"dataframe\">\n",
       "  <thead>\n",
       "    <tr style=\"text-align: right;\">\n",
       "      <th></th>\n",
       "      <th>time_left</th>\n",
       "      <th>ct_score</th>\n",
       "      <th>t_score</th>\n",
       "      <th>map</th>\n",
       "      <th>bomb_planted</th>\n",
       "      <th>ct_health</th>\n",
       "      <th>t_health</th>\n",
       "      <th>ct_armor</th>\n",
       "      <th>t_armor</th>\n",
       "      <th>ct_money</th>\n",
       "      <th>...</th>\n",
       "      <th>t_grenade_flashbang</th>\n",
       "      <th>ct_grenade_smokegrenade</th>\n",
       "      <th>t_grenade_smokegrenade</th>\n",
       "      <th>ct_grenade_incendiarygrenade</th>\n",
       "      <th>t_grenade_incendiarygrenade</th>\n",
       "      <th>ct_grenade_molotovgrenade</th>\n",
       "      <th>t_grenade_molotovgrenade</th>\n",
       "      <th>ct_grenade_decoygrenade</th>\n",
       "      <th>t_grenade_decoygrenade</th>\n",
       "      <th>round_winner</th>\n",
       "    </tr>\n",
       "  </thead>\n",
       "  <tbody>\n",
       "    <tr>\n",
       "      <th>0</th>\n",
       "      <td>175.00</td>\n",
       "      <td>0.0</td>\n",
       "      <td>0.0</td>\n",
       "      <td>de_dust2</td>\n",
       "      <td>False</td>\n",
       "      <td>500.0</td>\n",
       "      <td>500.0</td>\n",
       "      <td>0.0</td>\n",
       "      <td>0.0</td>\n",
       "      <td>4000.0</td>\n",
       "      <td>...</td>\n",
       "      <td>0.0</td>\n",
       "      <td>0.0</td>\n",
       "      <td>0.0</td>\n",
       "      <td>0.0</td>\n",
       "      <td>0.0</td>\n",
       "      <td>0.0</td>\n",
       "      <td>0.0</td>\n",
       "      <td>0.0</td>\n",
       "      <td>0.0</td>\n",
       "      <td>CT</td>\n",
       "    </tr>\n",
       "    <tr>\n",
       "      <th>1</th>\n",
       "      <td>156.03</td>\n",
       "      <td>0.0</td>\n",
       "      <td>0.0</td>\n",
       "      <td>de_dust2</td>\n",
       "      <td>False</td>\n",
       "      <td>500.0</td>\n",
       "      <td>500.0</td>\n",
       "      <td>400.0</td>\n",
       "      <td>300.0</td>\n",
       "      <td>600.0</td>\n",
       "      <td>...</td>\n",
       "      <td>0.0</td>\n",
       "      <td>0.0</td>\n",
       "      <td>2.0</td>\n",
       "      <td>0.0</td>\n",
       "      <td>0.0</td>\n",
       "      <td>0.0</td>\n",
       "      <td>0.0</td>\n",
       "      <td>0.0</td>\n",
       "      <td>0.0</td>\n",
       "      <td>CT</td>\n",
       "    </tr>\n",
       "    <tr>\n",
       "      <th>2</th>\n",
       "      <td>96.03</td>\n",
       "      <td>0.0</td>\n",
       "      <td>0.0</td>\n",
       "      <td>de_dust2</td>\n",
       "      <td>False</td>\n",
       "      <td>391.0</td>\n",
       "      <td>400.0</td>\n",
       "      <td>294.0</td>\n",
       "      <td>200.0</td>\n",
       "      <td>750.0</td>\n",
       "      <td>...</td>\n",
       "      <td>0.0</td>\n",
       "      <td>0.0</td>\n",
       "      <td>2.0</td>\n",
       "      <td>0.0</td>\n",
       "      <td>0.0</td>\n",
       "      <td>0.0</td>\n",
       "      <td>0.0</td>\n",
       "      <td>0.0</td>\n",
       "      <td>0.0</td>\n",
       "      <td>CT</td>\n",
       "    </tr>\n",
       "    <tr>\n",
       "      <th>3</th>\n",
       "      <td>76.03</td>\n",
       "      <td>0.0</td>\n",
       "      <td>0.0</td>\n",
       "      <td>de_dust2</td>\n",
       "      <td>False</td>\n",
       "      <td>391.0</td>\n",
       "      <td>400.0</td>\n",
       "      <td>294.0</td>\n",
       "      <td>200.0</td>\n",
       "      <td>750.0</td>\n",
       "      <td>...</td>\n",
       "      <td>0.0</td>\n",
       "      <td>0.0</td>\n",
       "      <td>0.0</td>\n",
       "      <td>0.0</td>\n",
       "      <td>0.0</td>\n",
       "      <td>0.0</td>\n",
       "      <td>0.0</td>\n",
       "      <td>0.0</td>\n",
       "      <td>0.0</td>\n",
       "      <td>CT</td>\n",
       "    </tr>\n",
       "    <tr>\n",
       "      <th>4</th>\n",
       "      <td>174.97</td>\n",
       "      <td>1.0</td>\n",
       "      <td>0.0</td>\n",
       "      <td>de_dust2</td>\n",
       "      <td>False</td>\n",
       "      <td>500.0</td>\n",
       "      <td>500.0</td>\n",
       "      <td>192.0</td>\n",
       "      <td>0.0</td>\n",
       "      <td>18350.0</td>\n",
       "      <td>...</td>\n",
       "      <td>0.0</td>\n",
       "      <td>0.0</td>\n",
       "      <td>0.0</td>\n",
       "      <td>0.0</td>\n",
       "      <td>0.0</td>\n",
       "      <td>0.0</td>\n",
       "      <td>0.0</td>\n",
       "      <td>0.0</td>\n",
       "      <td>0.0</td>\n",
       "      <td>CT</td>\n",
       "    </tr>\n",
       "  </tbody>\n",
       "</table>\n",
       "<p>5 rows × 97 columns</p>\n",
       "</div>"
      ],
      "text/plain": [
       "   time_left  ct_score  t_score       map  bomb_planted  ct_health  t_health  \\\n",
       "0     175.00       0.0      0.0  de_dust2         False      500.0     500.0   \n",
       "1     156.03       0.0      0.0  de_dust2         False      500.0     500.0   \n",
       "2      96.03       0.0      0.0  de_dust2         False      391.0     400.0   \n",
       "3      76.03       0.0      0.0  de_dust2         False      391.0     400.0   \n",
       "4     174.97       1.0      0.0  de_dust2         False      500.0     500.0   \n",
       "\n",
       "   ct_armor  t_armor  ct_money  ...  t_grenade_flashbang  \\\n",
       "0       0.0      0.0    4000.0  ...                  0.0   \n",
       "1     400.0    300.0     600.0  ...                  0.0   \n",
       "2     294.0    200.0     750.0  ...                  0.0   \n",
       "3     294.0    200.0     750.0  ...                  0.0   \n",
       "4     192.0      0.0   18350.0  ...                  0.0   \n",
       "\n",
       "   ct_grenade_smokegrenade  t_grenade_smokegrenade  \\\n",
       "0                      0.0                     0.0   \n",
       "1                      0.0                     2.0   \n",
       "2                      0.0                     2.0   \n",
       "3                      0.0                     0.0   \n",
       "4                      0.0                     0.0   \n",
       "\n",
       "   ct_grenade_incendiarygrenade  t_grenade_incendiarygrenade  \\\n",
       "0                           0.0                          0.0   \n",
       "1                           0.0                          0.0   \n",
       "2                           0.0                          0.0   \n",
       "3                           0.0                          0.0   \n",
       "4                           0.0                          0.0   \n",
       "\n",
       "   ct_grenade_molotovgrenade  t_grenade_molotovgrenade  \\\n",
       "0                        0.0                       0.0   \n",
       "1                        0.0                       0.0   \n",
       "2                        0.0                       0.0   \n",
       "3                        0.0                       0.0   \n",
       "4                        0.0                       0.0   \n",
       "\n",
       "   ct_grenade_decoygrenade  t_grenade_decoygrenade  round_winner  \n",
       "0                      0.0                     0.0            CT  \n",
       "1                      0.0                     0.0            CT  \n",
       "2                      0.0                     0.0            CT  \n",
       "3                      0.0                     0.0            CT  \n",
       "4                      0.0                     0.0            CT  \n",
       "\n",
       "[5 rows x 97 columns]"
      ]
     },
     "execution_count": 2,
     "metadata": {},
     "output_type": "execute_result"
    }
   ],
   "source": [
    "round_data.head()"
   ]
  },
  {
   "cell_type": "code",
   "execution_count": 5,
   "id": "blond-awareness",
   "metadata": {},
   "outputs": [
    {
     "data": {
      "text/plain": [
       "Index(['time_left', 'ct_score', 't_score', 'map', 'bomb_planted', 'ct_health',\n",
       "       't_health', 'ct_armor', 't_armor', 'ct_money', 't_money', 'ct_helmets',\n",
       "       't_helmets', 'ct_defuse_kits', 'ct_players_alive', 't_players_alive',\n",
       "       'ct_weapon_ak47', 't_weapon_ak47', 'ct_weapon_aug', 't_weapon_aug',\n",
       "       'ct_weapon_awp', 't_weapon_awp', 'ct_weapon_bizon', 't_weapon_bizon',\n",
       "       'ct_weapon_cz75auto', 't_weapon_cz75auto', 'ct_weapon_elite',\n",
       "       't_weapon_elite', 'ct_weapon_famas', 't_weapon_famas',\n",
       "       'ct_weapon_g3sg1', 't_weapon_g3sg1', 'ct_weapon_galilar',\n",
       "       't_weapon_galilar', 'ct_weapon_glock', 't_weapon_glock',\n",
       "       'ct_weapon_m249', 't_weapon_m249', 'ct_weapon_m4a1s', 't_weapon_m4a1s',\n",
       "       'ct_weapon_m4a4', 't_weapon_m4a4', 'ct_weapon_mac10', 't_weapon_mac10',\n",
       "       'ct_weapon_mag7', 't_weapon_mag7', 'ct_weapon_mp5sd', 't_weapon_mp5sd',\n",
       "       'ct_weapon_mp7', 't_weapon_mp7', 'ct_weapon_mp9', 't_weapon_mp9',\n",
       "       'ct_weapon_negev', 't_weapon_negev', 'ct_weapon_nova', 't_weapon_nova',\n",
       "       'ct_weapon_p90', 't_weapon_p90', 'ct_weapon_r8revolver',\n",
       "       't_weapon_r8revolver', 'ct_weapon_sawedoff', 't_weapon_sawedoff',\n",
       "       'ct_weapon_scar20', 't_weapon_scar20', 'ct_weapon_sg553',\n",
       "       't_weapon_sg553', 'ct_weapon_ssg08', 't_weapon_ssg08',\n",
       "       'ct_weapon_ump45', 't_weapon_ump45', 'ct_weapon_xm1014',\n",
       "       't_weapon_xm1014', 'ct_weapon_deagle', 't_weapon_deagle',\n",
       "       'ct_weapon_fiveseven', 't_weapon_fiveseven', 'ct_weapon_usps',\n",
       "       't_weapon_usps', 'ct_weapon_p250', 't_weapon_p250', 'ct_weapon_p2000',\n",
       "       't_weapon_p2000', 'ct_weapon_tec9', 't_weapon_tec9',\n",
       "       'ct_grenade_hegrenade', 't_grenade_hegrenade', 'ct_grenade_flashbang',\n",
       "       't_grenade_flashbang', 'ct_grenade_smokegrenade',\n",
       "       't_grenade_smokegrenade', 'ct_grenade_incendiarygrenade',\n",
       "       't_grenade_incendiarygrenade', 'ct_grenade_molotovgrenade',\n",
       "       't_grenade_molotovgrenade', 'ct_grenade_decoygrenade',\n",
       "       't_grenade_decoygrenade', 'round_winner'],\n",
       "      dtype='object')"
      ]
     },
     "execution_count": 5,
     "metadata": {},
     "output_type": "execute_result"
    }
   ],
   "source": [
    "round_data.columns"
   ]
  },
  {
   "cell_type": "code",
   "execution_count": 6,
   "id": "divided-powell",
   "metadata": {},
   "outputs": [],
   "source": [
    "round_small = round_data[['ct_players_alive', 't_players_alive', 'map', 'round_winner']]"
   ]
  },
  {
   "cell_type": "markdown",
   "id": "governing-bloom",
   "metadata": {},
   "source": [
    "## Using just ct players alive\n",
    "### What is the win pct for CT when 2 ct are alive"
   ]
  },
  {
   "cell_type": "code",
   "execution_count": 9,
   "id": "circular-playback",
   "metadata": {},
   "outputs": [
    {
     "ename": "NameError",
     "evalue": "name 'round_small' is not defined",
     "output_type": "error",
     "traceback": [
      "\u001b[0;31m---------------------------------------------------------------------------\u001b[0m",
      "\u001b[0;31mNameError\u001b[0m                                 Traceback (most recent call last)",
      "\u001b[0;32m<ipython-input-9-0910930335b0>\u001b[0m in \u001b[0;36m<module>\u001b[0;34m\u001b[0m\n\u001b[1;32m      6\u001b[0m         \u001b[0;32mreturn\u001b[0m \u001b[0;36m0\u001b[0m\u001b[0;34m\u001b[0m\u001b[0;34m\u001b[0m\u001b[0m\n\u001b[1;32m      7\u001b[0m \u001b[0;34m\u001b[0m\u001b[0m\n\u001b[0;32m----> 8\u001b[0;31m \u001b[0mround_small\u001b[0m\u001b[0;34m.\u001b[0m\u001b[0mgroupby\u001b[0m\u001b[0;34m(\u001b[0m\u001b[0;34m'ct_players_alive'\u001b[0m\u001b[0;34m)\u001b[0m\u001b[0;34m[\u001b[0m\u001b[0;34m'round_winner'\u001b[0m\u001b[0;34m]\u001b[0m\u001b[0;34m.\u001b[0m\u001b[0magg\u001b[0m\u001b[0;34m(\u001b[0m\u001b[0mwin_pct\u001b[0m\u001b[0;34m,\u001b[0m \u001b[0mgoal\u001b[0m\u001b[0;34m=\u001b[0m\u001b[0;34m'CT'\u001b[0m\u001b[0;34m)\u001b[0m\u001b[0;34m\u001b[0m\u001b[0;34m\u001b[0m\u001b[0m\n\u001b[0m",
      "\u001b[0;31mNameError\u001b[0m: name 'round_small' is not defined"
     ]
    }
   ],
   "source": [
    "def win_pct(dat, goal='CT'):\n",
    "    vc = dat.value_counts()\n",
    "    try:\n",
    "        return vc[goal] / vc.sum()\n",
    "    except KeyError:\n",
    "        return 0\n",
    "\n",
    "round_small.groupby('ct_players_alive')['round_winner'].agg(win_pct, goal='CT')"
   ]
  },
  {
   "cell_type": "code",
   "execution_count": 8,
   "id": "enhanced-connecticut",
   "metadata": {},
   "outputs": [
    {
     "data": {
      "text/plain": [
       "ct_players_alive\n",
       "0.0    1.000000\n",
       "1.0    0.877268\n",
       "2.0    0.716951\n",
       "3.0    0.575905\n",
       "4.0    0.468774\n",
       "5.0    0.456375\n",
       "Name: round_winner, dtype: float64"
      ]
     },
     "execution_count": 8,
     "metadata": {},
     "output_type": "execute_result"
    }
   ],
   "source": [
    "round_small.groupby('ct_players_alive')['round_winner'].agg(win_pct, goal='T')"
   ]
  },
  {
   "cell_type": "code",
   "execution_count": 9,
   "id": "reverse-submission",
   "metadata": {},
   "outputs": [
    {
     "data": {
      "text/plain": [
       "1.0"
      ]
     },
     "execution_count": 9,
     "metadata": {},
     "output_type": "execute_result"
    }
   ],
   "source": [
    "0.531226 + 0.468774"
   ]
  },
  {
   "cell_type": "markdown",
   "id": "mechanical-henry",
   "metadata": {},
   "source": [
    "\\begin{equation}\n",
    "P(A|B) = \\frac{P(B|A)P(A)}{P(B|A)P(A) + P(B|\\neg A)P(\\neg A)} = P(\\text{win}|\\text{2 alive}) = \\frac{P(\\text{2 alive}|\\text{win})P(\\text{win})}{P(\\text{2 alive}|\\text{win})P(\\text{win}) + P(\\text{2 alive}|\\text{lose})P(\\text{lose})}\n",
    "\\end{equation}"
   ]
  },
  {
   "cell_type": "code",
   "execution_count": 10,
   "id": "auburn-break",
   "metadata": {},
   "outputs": [],
   "source": [
    "P_2alive_win = round_small.query('ct_players_alive == 2')['round_winner'].agg(win_pct, goal='CT')\n",
    "P_2alive_lose = round_small.query('ct_players_alive == 2')['round_winner'].agg(win_pct, goal='T')\n",
    "P_CT_win = round_small['round_winner'].agg(win_pct, goal='CT')\n",
    "P_CT_lose = round_small['round_winner'].agg(win_pct, goal='T')"
   ]
  },
  {
   "cell_type": "code",
   "execution_count": 11,
   "id": "developmental-immunology",
   "metadata": {},
   "outputs": [
    {
     "data": {
      "text/plain": [
       "0.2830485611510791"
      ]
     },
     "execution_count": 11,
     "metadata": {},
     "output_type": "execute_result"
    }
   ],
   "source": [
    "P_2alive_win"
   ]
  },
  {
   "cell_type": "code",
   "execution_count": 12,
   "id": "behind-aspect",
   "metadata": {},
   "outputs": [
    {
     "data": {
      "text/plain": [
       "0.7169514388489209"
      ]
     },
     "execution_count": 12,
     "metadata": {},
     "output_type": "execute_result"
    }
   ],
   "source": [
    "P_2alive_lose"
   ]
  },
  {
   "cell_type": "code",
   "execution_count": 13,
   "id": "elementary-mortality",
   "metadata": {},
   "outputs": [
    {
     "data": {
      "text/plain": [
       "0.4901887100727065"
      ]
     },
     "execution_count": 13,
     "metadata": {},
     "output_type": "execute_result"
    }
   ],
   "source": [
    "P_CT_win"
   ]
  },
  {
   "cell_type": "code",
   "execution_count": 14,
   "id": "guided-greene",
   "metadata": {},
   "outputs": [
    {
     "data": {
      "text/plain": [
       "0.5098112899272935"
      ]
     },
     "execution_count": 14,
     "metadata": {},
     "output_type": "execute_result"
    }
   ],
   "source": [
    "P_CT_lose"
   ]
  },
  {
   "cell_type": "code",
   "execution_count": 5,
   "id": "portable-company",
   "metadata": {},
   "outputs": [
    {
     "ename": "NameError",
     "evalue": "name 'P_CT_win' is not defined",
     "output_type": "error",
     "traceback": [
      "\u001b[0;31m---------------------------------------------------------------------------\u001b[0m",
      "\u001b[0;31mNameError\u001b[0m                                 Traceback (most recent call last)",
      "\u001b[0;32m<ipython-input-5-9a7af7f7b063>\u001b[0m in \u001b[0;36m<module>\u001b[0;34m\u001b[0m\n\u001b[1;32m      5\u001b[0m     \u001b[0;32mreturn\u001b[0m \u001b[0mp_a_given_b\u001b[0m\u001b[0;34m\u001b[0m\u001b[0;34m\u001b[0m\u001b[0m\n\u001b[1;32m      6\u001b[0m \u001b[0;34m\u001b[0m\u001b[0m\n\u001b[0;32m----> 7\u001b[0;31m \u001b[0mbayes_theorem\u001b[0m\u001b[0;34m(\u001b[0m\u001b[0mP_CT_win\u001b[0m\u001b[0;34m,\u001b[0m \u001b[0mP_2alive_win\u001b[0m\u001b[0;34m,\u001b[0m \u001b[0mP_2alive_lose\u001b[0m\u001b[0;34m)\u001b[0m\u001b[0;34m\u001b[0m\u001b[0;34m\u001b[0m\u001b[0m\n\u001b[0m",
      "\u001b[0;31mNameError\u001b[0m: name 'P_CT_win' is not defined"
     ]
    }
   ],
   "source": [
    "def bayes_theorem(p_a, p_b_given_a, p_b_given_not_a):\n",
    "    not_a = 1 - p_a\n",
    "    p_b = p_b_given_a * p_a + p_b_given_not_a * not_a\n",
    "    p_a_given_b = (p_b_given_a * p_a) / p_b\n",
    "    return p_a_given_b\n",
    "\n",
    "bayes_theorem(P_CT_win, P_2alive_win, P_2alive_lose)"
   ]
  },
  {
   "cell_type": "markdown",
   "id": "informal-drain",
   "metadata": {},
   "source": [
    "## Also include the map that was played"
   ]
  },
  {
   "cell_type": "code",
   "execution_count": 16,
   "id": "identical-archives",
   "metadata": {},
   "outputs": [
    {
     "data": {
      "text/plain": [
       "map\n",
       "de_cache       0.710345\n",
       "de_dust2       0.458725\n",
       "de_inferno     0.453992\n",
       "de_mirage      0.492248\n",
       "de_nuke        0.536873\n",
       "de_overpass    0.498970\n",
       "de_train       0.541843\n",
       "de_vertigo     0.470414\n",
       "Name: round_winner, dtype: float64"
      ]
     },
     "execution_count": 16,
     "metadata": {},
     "output_type": "execute_result"
    }
   ],
   "source": [
    "round_data[['ct_players_alive', 'map', 'round_winner']].groupby(['map'])['round_winner'].agg(win_pct, goal='CT')"
   ]
  },
  {
   "cell_type": "code",
   "execution_count": 17,
   "id": "chief-aaron",
   "metadata": {},
   "outputs": [
    {
     "data": {
      "text/plain": [
       "map          ct_players_alive\n",
       "de_cache     1.0                 0.285714\n",
       "             2.0                 0.625000\n",
       "             3.0                 0.555556\n",
       "             4.0                 0.678571\n",
       "             5.0                 0.774194\n",
       "de_dust2     1.0                 0.123857\n",
       "             2.0                 0.268524\n",
       "             3.0                 0.378675\n",
       "             4.0                 0.483959\n",
       "             5.0                 0.514533\n",
       "de_inferno   0.0                 0.000000\n",
       "             1.0                 0.109694\n",
       "             2.0                 0.204082\n",
       "             3.0                 0.372447\n",
       "             4.0                 0.496686\n",
       "             5.0                 0.511125\n",
       "de_mirage    1.0                 0.121857\n",
       "             2.0                 0.299315\n",
       "             3.0                 0.433293\n",
       "             4.0                 0.533728\n",
       "             5.0                 0.544257\n",
       "de_nuke      1.0                 0.123711\n",
       "             2.0                 0.349731\n",
       "             3.0                 0.463680\n",
       "             4.0                 0.591975\n",
       "             5.0                 0.586774\n",
       "de_overpass  1.0                 0.132999\n",
       "             2.0                 0.295788\n",
       "             3.0                 0.441026\n",
       "             4.0                 0.531816\n",
       "             5.0                 0.553412\n",
       "de_train     1.0                 0.163585\n",
       "             2.0                 0.314256\n",
       "             3.0                 0.501380\n",
       "             4.0                 0.590709\n",
       "             5.0                 0.591123\n",
       "de_vertigo   1.0                 0.086697\n",
       "             2.0                 0.300505\n",
       "             3.0                 0.437864\n",
       "             4.0                 0.514286\n",
       "             5.0                 0.520655\n",
       "Name: round_winner, dtype: float64"
      ]
     },
     "execution_count": 17,
     "metadata": {},
     "output_type": "execute_result"
    }
   ],
   "source": [
    "round_data[['ct_players_alive', 'map', 'round_winner']].groupby(['map', 'ct_players_alive'])['round_winner'].agg(win_pct, goal='CT')"
   ]
  },
  {
   "cell_type": "markdown",
   "id": "included-cassette",
   "metadata": {},
   "source": [
    "This confirms that the priors per map are different. Without any additional information the win pct are very different. For example, knowing there are 2 CT players alive on cache:"
   ]
  },
  {
   "cell_type": "markdown",
   "id": "certified-harris",
   "metadata": {},
   "source": [
    "We can include the map explictely in our Bayes equation:\n",
    "\n",
    "\\begin{equation}\n",
    "P(C|A,B) = \\frac{P(A|C)P(B|C)P(C)}{P(A|C)P(B|C)P(C) + P(A|\\neg C)P(B|\\neg C)P(\\neg C)} = P(\\text{win}|\\text{2 alive}, \\text{map de_cache}) = \\frac{P(\\text{2 alive}|\\text{win})P(\\text{map de_cache}|\\text{win})P(\\text{win})}{P(\\text{2 alive}|\\text{win})P(\\text{map de_cache}|\\text{win})P(\\text{win}) + P(\\text{2 alive}|\\text{lose})P(\\text{map de_cache}|\\text{lose})P(\\text{lose})}\n",
    "\\end{equation}\n",
    "\n",
    "Under the assumption that the events `2 alive` and `map de_cache` are conditionally independent. This makes it a Naive Bayes approach. In code:"
   ]
  },
  {
   "cell_type": "code",
   "execution_count": 6,
   "id": "agreed-honor",
   "metadata": {},
   "outputs": [
    {
     "ename": "NameError",
     "evalue": "name 'round_small' is not defined",
     "output_type": "error",
     "traceback": [
      "\u001b[0;31m---------------------------------------------------------------------------\u001b[0m",
      "\u001b[0;31mNameError\u001b[0m                                 Traceback (most recent call last)",
      "\u001b[0;32m<ipython-input-6-f48607283654>\u001b[0m in \u001b[0;36m<module>\u001b[0;34m\u001b[0m\n\u001b[1;32m      1\u001b[0m \u001b[0mcur_map\u001b[0m \u001b[0;34m=\u001b[0m \u001b[0;34m\"de_cache\"\u001b[0m\u001b[0;34m\u001b[0m\u001b[0;34m\u001b[0m\u001b[0m\n\u001b[1;32m      2\u001b[0m \u001b[0mno_players\u001b[0m \u001b[0;34m=\u001b[0m \u001b[0;36m2\u001b[0m\u001b[0;34m\u001b[0m\u001b[0;34m\u001b[0m\u001b[0m\n\u001b[0;32m----> 3\u001b[0;31m \u001b[0mP_2alive_win\u001b[0m \u001b[0;34m=\u001b[0m \u001b[0mround_small\u001b[0m\u001b[0;34m.\u001b[0m\u001b[0mquery\u001b[0m\u001b[0;34m(\u001b[0m\u001b[0;34mf'ct_players_alive == {no_players}'\u001b[0m\u001b[0;34m)\u001b[0m\u001b[0;34m[\u001b[0m\u001b[0;34m'round_winner'\u001b[0m\u001b[0;34m]\u001b[0m\u001b[0;34m.\u001b[0m\u001b[0magg\u001b[0m\u001b[0;34m(\u001b[0m\u001b[0mwin_pct\u001b[0m\u001b[0;34m,\u001b[0m \u001b[0mgoal\u001b[0m\u001b[0;34m=\u001b[0m\u001b[0;34m'CT'\u001b[0m\u001b[0;34m)\u001b[0m\u001b[0;34m\u001b[0m\u001b[0;34m\u001b[0m\u001b[0m\n\u001b[0m\u001b[1;32m      4\u001b[0m \u001b[0mP_2alive_lose\u001b[0m \u001b[0;34m=\u001b[0m \u001b[0mround_small\u001b[0m\u001b[0;34m.\u001b[0m\u001b[0mquery\u001b[0m\u001b[0;34m(\u001b[0m\u001b[0;34mf'ct_players_alive == {no_players}'\u001b[0m\u001b[0;34m)\u001b[0m\u001b[0;34m[\u001b[0m\u001b[0;34m'round_winner'\u001b[0m\u001b[0;34m]\u001b[0m\u001b[0;34m.\u001b[0m\u001b[0magg\u001b[0m\u001b[0;34m(\u001b[0m\u001b[0mwin_pct\u001b[0m\u001b[0;34m,\u001b[0m \u001b[0mgoal\u001b[0m\u001b[0;34m=\u001b[0m\u001b[0;34m'T'\u001b[0m\u001b[0;34m)\u001b[0m\u001b[0;34m\u001b[0m\u001b[0;34m\u001b[0m\u001b[0m\n\u001b[1;32m      5\u001b[0m \u001b[0mP_map_win\u001b[0m \u001b[0;34m=\u001b[0m \u001b[0mround_small\u001b[0m\u001b[0;34m.\u001b[0m\u001b[0mquery\u001b[0m\u001b[0;34m(\u001b[0m\u001b[0;34mf'map == \"{cur_map}\"'\u001b[0m\u001b[0;34m)\u001b[0m\u001b[0;34m[\u001b[0m\u001b[0;34m'round_winner'\u001b[0m\u001b[0;34m]\u001b[0m\u001b[0;34m.\u001b[0m\u001b[0magg\u001b[0m\u001b[0;34m(\u001b[0m\u001b[0mwin_pct\u001b[0m\u001b[0;34m,\u001b[0m \u001b[0mgoal\u001b[0m\u001b[0;34m=\u001b[0m\u001b[0;34m'CT'\u001b[0m\u001b[0;34m)\u001b[0m\u001b[0;34m\u001b[0m\u001b[0;34m\u001b[0m\u001b[0m\n",
      "\u001b[0;31mNameError\u001b[0m: name 'round_small' is not defined"
     ]
    }
   ],
   "source": [
    "cur_map = \"de_cache\"\n",
    "no_players = 2\n",
    "P_2alive_win = round_small.query(f'ct_players_alive == {no_players}')['round_winner'].agg(win_pct, goal='CT')\n",
    "P_2alive_lose = round_small.query(f'ct_players_alive == {no_players}')['round_winner'].agg(win_pct, goal='T')\n",
    "P_map_win = round_small.query(f'map == \"{cur_map}\"')['round_winner'].agg(win_pct, goal='CT')\n",
    "P_map_lose = round_small.query(f'map == \"{cur_map}\"')['round_winner'].agg(win_pct, goal='T')\n",
    "P_CT_win = round_small['round_winner'].agg(win_pct, goal='CT')\n",
    "P_CT_lose = round_small['round_winner'].agg(win_pct, goal='T')\n",
    "print(pd.Series([P_2alive_win, P_2alive_lose, P_map_win, P_map_lose, P_CT_win, P_CT_lose], \n",
    "                index = ['P_2alive_win', 'P_2alive_lose', 'P_map_win', 'P_map_lose', 'P_CT_win', 'P_CT_lose']))\n",
    "\n",
    "bayes_theorem(P_CT_win, P_2alive_win * P_map_win, P_2alive_lose * P_map_lose)"
   ]
  },
  {
   "cell_type": "markdown",
   "id": "recognized-government",
   "metadata": {},
   "source": [
    "## And adding the amount of T players alive\n",
    "The issue here is that we want to extend our system to include multiple pieces of evidence. "
   ]
  },
  {
   "cell_type": "code",
   "execution_count": 7,
   "id": "systematic-latitude",
   "metadata": {},
   "outputs": [
    {
     "ename": "NameError",
     "evalue": "name 'round_small' is not defined",
     "output_type": "error",
     "traceback": [
      "\u001b[0;31m---------------------------------------------------------------------------\u001b[0m",
      "\u001b[0;31mNameError\u001b[0m                                 Traceback (most recent call last)",
      "\u001b[0;32m<ipython-input-7-0cf17d6aecc0>\u001b[0m in \u001b[0;36m<module>\u001b[0;34m\u001b[0m\n\u001b[1;32m      2\u001b[0m \u001b[0mno_ct_players\u001b[0m \u001b[0;34m=\u001b[0m \u001b[0;36m2\u001b[0m\u001b[0;34m\u001b[0m\u001b[0;34m\u001b[0m\u001b[0m\n\u001b[1;32m      3\u001b[0m \u001b[0mno_t_players\u001b[0m \u001b[0;34m=\u001b[0m \u001b[0;36m0\u001b[0m\u001b[0;34m\u001b[0m\u001b[0;34m\u001b[0m\u001b[0m\n\u001b[0;32m----> 4\u001b[0;31m \u001b[0mP_2alive_win\u001b[0m \u001b[0;34m=\u001b[0m \u001b[0mround_small\u001b[0m\u001b[0;34m.\u001b[0m\u001b[0mquery\u001b[0m\u001b[0;34m(\u001b[0m\u001b[0;34mf'ct_players_alive == {no_ct_players}'\u001b[0m\u001b[0;34m)\u001b[0m\u001b[0;34m[\u001b[0m\u001b[0;34m'round_winner'\u001b[0m\u001b[0;34m]\u001b[0m\u001b[0;34m.\u001b[0m\u001b[0magg\u001b[0m\u001b[0;34m(\u001b[0m\u001b[0mwin_pct\u001b[0m\u001b[0;34m,\u001b[0m \u001b[0mgoal\u001b[0m\u001b[0;34m=\u001b[0m\u001b[0;34m'CT'\u001b[0m\u001b[0;34m)\u001b[0m\u001b[0;34m\u001b[0m\u001b[0;34m\u001b[0m\u001b[0m\n\u001b[0m\u001b[1;32m      5\u001b[0m \u001b[0mP_2alive_lose\u001b[0m \u001b[0;34m=\u001b[0m \u001b[0mround_small\u001b[0m\u001b[0;34m.\u001b[0m\u001b[0mquery\u001b[0m\u001b[0;34m(\u001b[0m\u001b[0;34mf'ct_players_alive == {no_ct_players}'\u001b[0m\u001b[0;34m)\u001b[0m\u001b[0;34m[\u001b[0m\u001b[0;34m'round_winner'\u001b[0m\u001b[0;34m]\u001b[0m\u001b[0;34m.\u001b[0m\u001b[0magg\u001b[0m\u001b[0;34m(\u001b[0m\u001b[0mwin_pct\u001b[0m\u001b[0;34m,\u001b[0m \u001b[0mgoal\u001b[0m\u001b[0;34m=\u001b[0m\u001b[0;34m'T'\u001b[0m\u001b[0;34m)\u001b[0m\u001b[0;34m\u001b[0m\u001b[0;34m\u001b[0m\u001b[0m\n\u001b[1;32m      6\u001b[0m \u001b[0mP_T2alive_win\u001b[0m \u001b[0;34m=\u001b[0m \u001b[0mround_small\u001b[0m\u001b[0;34m.\u001b[0m\u001b[0mquery\u001b[0m\u001b[0;34m(\u001b[0m\u001b[0;34mf't_players_alive == {no_t_players}'\u001b[0m\u001b[0;34m)\u001b[0m\u001b[0;34m[\u001b[0m\u001b[0;34m'round_winner'\u001b[0m\u001b[0;34m]\u001b[0m\u001b[0;34m.\u001b[0m\u001b[0magg\u001b[0m\u001b[0;34m(\u001b[0m\u001b[0mwin_pct\u001b[0m\u001b[0;34m,\u001b[0m \u001b[0mgoal\u001b[0m\u001b[0;34m=\u001b[0m\u001b[0;34m'CT'\u001b[0m\u001b[0;34m)\u001b[0m\u001b[0;34m\u001b[0m\u001b[0;34m\u001b[0m\u001b[0m\n",
      "\u001b[0;31mNameError\u001b[0m: name 'round_small' is not defined"
     ]
    }
   ],
   "source": [
    "cur_map = \"de_cache\"\n",
    "no_ct_players = 2\n",
    "no_t_players = 0\n",
    "P_2alive_win = round_small.query(f'ct_players_alive == {no_ct_players}')['round_winner'].agg(win_pct, goal='CT')\n",
    "P_2alive_lose = round_small.query(f'ct_players_alive == {no_ct_players}')['round_winner'].agg(win_pct, goal='T')\n",
    "P_T2alive_win = round_small.query(f't_players_alive == {no_t_players}')['round_winner'].agg(win_pct, goal='CT')\n",
    "P_T2alive_lose = round_small.query(f't_players_alive == {no_t_players}')['round_winner'].agg(win_pct, goal='T')\n",
    "P_map_win = round_small.query(f'map == \"{cur_map}\"')['round_winner'].agg(win_pct, goal='CT')\n",
    "P_map_lose = round_small.query(f'map == \"{cur_map}\"')['round_winner'].agg(win_pct, goal='T')\n",
    "P_CT_win = round_small['round_winner'].agg(win_pct, goal='CT')\n",
    "P_CT_lose = round_small['round_winner'].agg(win_pct, goal='T')\n",
    "print(pd.Series([P_2alive_win, P_2alive_lose, P_map_win, P_map_lose, P_CT_win, P_CT_lose], \n",
    "                index = ['P_2alive_win', 'P_2alive_lose', 'P_map_win', 'P_map_lose', 'P_CT_win', 'P_CT_lose']))\n",
    "\n",
    "bayes_theorem(P_CT_win, P_2alive_win * P_map_win * P_T2alive_win, P_2alive_lose * P_map_lose * P_T2alive_lose)"
   ]
  },
  {
   "cell_type": "markdown",
   "id": "armed-insured",
   "metadata": {},
   "source": [
    "# Improving the code"
   ]
  },
  {
   "cell_type": "code",
   "execution_count": 18,
   "id": "abandoned-niger",
   "metadata": {},
   "outputs": [
    {
     "data": {
      "text/plain": [
       "0.8413945394834728"
      ]
     },
     "execution_count": 18,
     "metadata": {},
     "output_type": "execute_result"
    }
   ],
   "source": [
    "import numbers\n",
    "\n",
    "def get_winpct_from_data(dat, goal):\n",
    "    return dat.agg(win_pct, goal=goal)\n",
    "\n",
    "def calc_prob(var, value, goal):\n",
    "    if isinstance(value, str):\n",
    "        return get_winpct_from_data(round_data.query(f'{var} == \"{value}\"')['round_winner'], goal)\n",
    "    else:\n",
    "        return get_winpct_from_data(round_data.query(f'{var} == {value}')['round_winner'], goal)\n",
    "    \n",
    "def calc_marginal_probs(evidence, goal):\n",
    "    return pd.Series([calc_prob(var, value, goal) for var, value in evidence.items()]).product()\n",
    "\n",
    "evidence = {'ct_players_alive': 2, 't_players_alive': 0, 'map': 'de_cache', 'bomb_planted': True}\n",
    "bayes_theorem(get_winpct_from_data(round_data['round_winner'], 'CT'), \n",
    "              calc_marginal_probs(evidence, 'CT'), \n",
    "              calc_marginal_probs(evidence, 'T'))"
   ]
  },
  {
   "cell_type": "markdown",
   "id": "automatic-combat",
   "metadata": {},
   "source": [
    "# 1v1 before and after bomb plant"
   ]
  },
  {
   "cell_type": "code",
   "execution_count": 13,
   "id": "spatial-fiber",
   "metadata": {},
   "outputs": [
    {
     "name": "stdout",
     "output_type": "stream",
     "text": [
      "0.18097289849730794 0.45306912812458766\n"
     ]
    }
   ],
   "source": [
    "evidence = {'ct_players_alive': 1, 't_players_alive': 1, 'bomb_planted': True}\n",
    "p1 = bayes_theorem(get_winpct_from_data(round_data['round_winner'], 'CT'), \n",
    "              calc_marginal_probs(evidence, 'CT'), \n",
    "              calc_marginal_probs(evidence, 'T'))\n",
    "evidence = {'ct_players_alive': 1, 't_players_alive': 1, 'bomb_planted': False}\n",
    "p2 = bayes_theorem(get_winpct_from_data(round_data['round_winner'], 'CT'), \n",
    "              calc_marginal_probs(evidence, 'CT'), \n",
    "              calc_marginal_probs(evidence, 'T'))\n",
    "print(p1, p2)"
   ]
  },
  {
   "cell_type": "markdown",
   "id": "isolated-frost",
   "metadata": {},
   "source": [
    "# Add round score (how late in the game)"
   ]
  },
  {
   "cell_type": "code",
   "execution_count": 164,
   "id": "authentic-nothing",
   "metadata": {},
   "outputs": [
    {
     "data": {
      "text/plain": [
       "[(-1.0, 4.0], (4.0, 8.0], (8.0, 12.0], (12.0, 16.0], (16.0, 32.0]]\n",
       "Categories (5, interval[float64]): [(-1.0, 4.0] < (4.0, 8.0] < (8.0, 12.0] < (12.0, 16.0] < (16.0, 32.0]]"
      ]
     },
     "execution_count": 164,
     "metadata": {},
     "output_type": "execute_result"
    }
   ],
   "source": [
    "pd.cut(round_data['ct_score'], [-1,4,8,12,16,max(round_data['ct_score'])]).unique()"
   ]
  },
  {
   "cell_type": "code",
   "execution_count": 165,
   "id": "simple-interest",
   "metadata": {},
   "outputs": [
    {
     "data": {
      "text/plain": [
       "array([0, 1, 2, 3, 4])"
      ]
     },
     "execution_count": 165,
     "metadata": {},
     "output_type": "execute_result"
    }
   ],
   "source": [
    "# Choosing no labels for selection later\n",
    "#round_data['ct_score_cat'] = pd.cut(round_data['ct_score'], 6, labels=False)\n",
    "round_data['ct_score_cat'] = pd.cut(round_data['ct_score'], [-1,4,8,12,16,max(round_data['ct_score'])], labels=False)\n",
    "round_data['ct_score_cat'].unique()"
   ]
  },
  {
   "cell_type": "code",
   "execution_count": 19,
   "id": "medium-wrong",
   "metadata": {},
   "outputs": [],
   "source": [
    "def prob_helper(evidence):\n",
    "    dummy = evidence.copy()\n",
    "    dummy['prob'] = bayes_theorem(get_winpct_from_data(round_data['round_winner'], 'CT'), \n",
    "                          calc_marginal_probs(evidence, 'CT'), \n",
    "                          calc_marginal_probs(evidence, 'T'))\n",
    "    return pd.DataFrame(dummy, index=[0])\n",
    "\n",
    "P_win = pd.concat([prob_helper({'ct_players_alive': ct_player, 't_players_alive': t_player, \n",
    "                                'map': map_name, 'bomb_planted': bomb_planted}) \n",
    "                   for ct_player in range(0,6) \n",
    "                   for t_player in range(0,6)\n",
    "                   for map_name in round_data['map'].unique()\n",
    "                   for bomb_planted in round_data['bomb_planted'].unique()])"
   ]
  },
  {
   "cell_type": "code",
   "execution_count": 33,
   "id": "smoking-interaction",
   "metadata": {},
   "outputs": [
    {
     "data": {
      "text/html": [
       "<div>\n",
       "<style scoped>\n",
       "    .dataframe tbody tr th:only-of-type {\n",
       "        vertical-align: middle;\n",
       "    }\n",
       "\n",
       "    .dataframe tbody tr th {\n",
       "        vertical-align: top;\n",
       "    }\n",
       "\n",
       "    .dataframe thead th {\n",
       "        text-align: right;\n",
       "    }\n",
       "</style>\n",
       "<table border=\"1\" class=\"dataframe\">\n",
       "  <thead>\n",
       "    <tr style=\"text-align: right;\">\n",
       "      <th></th>\n",
       "      <th>ct_players_alive</th>\n",
       "      <th>t_players_alive</th>\n",
       "      <th>map</th>\n",
       "      <th>bomb_planted</th>\n",
       "      <th>prob</th>\n",
       "    </tr>\n",
       "  </thead>\n",
       "  <tbody>\n",
       "    <tr>\n",
       "      <th>0</th>\n",
       "      <td>1</td>\n",
       "      <td>1</td>\n",
       "      <td>de_dust2</td>\n",
       "      <td>False</td>\n",
       "      <td>0.412472</td>\n",
       "    </tr>\n",
       "    <tr>\n",
       "      <th>0</th>\n",
       "      <td>1</td>\n",
       "      <td>1</td>\n",
       "      <td>de_dust2</td>\n",
       "      <td>True</td>\n",
       "      <td>0.157726</td>\n",
       "    </tr>\n",
       "    <tr>\n",
       "      <th>0</th>\n",
       "      <td>1</td>\n",
       "      <td>1</td>\n",
       "      <td>de_mirage</td>\n",
       "      <td>False</td>\n",
       "      <td>0.445397</td>\n",
       "    </tr>\n",
       "    <tr>\n",
       "      <th>0</th>\n",
       "      <td>1</td>\n",
       "      <td>1</td>\n",
       "      <td>de_mirage</td>\n",
       "      <td>True</td>\n",
       "      <td>0.176422</td>\n",
       "    </tr>\n",
       "    <tr>\n",
       "      <th>0</th>\n",
       "      <td>1</td>\n",
       "      <td>1</td>\n",
       "      <td>de_nuke</td>\n",
       "      <td>False</td>\n",
       "      <td>0.489872</td>\n",
       "    </tr>\n",
       "    <tr>\n",
       "      <th>0</th>\n",
       "      <td>1</td>\n",
       "      <td>1</td>\n",
       "      <td>de_nuke</td>\n",
       "      <td>True</td>\n",
       "      <td>0.203914</td>\n",
       "    </tr>\n",
       "    <tr>\n",
       "      <th>0</th>\n",
       "      <td>1</td>\n",
       "      <td>1</td>\n",
       "      <td>de_inferno</td>\n",
       "      <td>False</td>\n",
       "      <td>0.407857</td>\n",
       "    </tr>\n",
       "    <tr>\n",
       "      <th>0</th>\n",
       "      <td>1</td>\n",
       "      <td>1</td>\n",
       "      <td>de_inferno</td>\n",
       "      <td>True</td>\n",
       "      <td>0.155208</td>\n",
       "    </tr>\n",
       "    <tr>\n",
       "      <th>0</th>\n",
       "      <td>1</td>\n",
       "      <td>1</td>\n",
       "      <td>de_overpass</td>\n",
       "      <td>False</td>\n",
       "      <td>0.452049</td>\n",
       "    </tr>\n",
       "    <tr>\n",
       "      <th>0</th>\n",
       "      <td>1</td>\n",
       "      <td>1</td>\n",
       "      <td>de_overpass</td>\n",
       "      <td>True</td>\n",
       "      <td>0.180363</td>\n",
       "    </tr>\n",
       "    <tr>\n",
       "      <th>0</th>\n",
       "      <td>1</td>\n",
       "      <td>1</td>\n",
       "      <td>de_vertigo</td>\n",
       "      <td>False</td>\n",
       "      <td>0.423906</td>\n",
       "    </tr>\n",
       "    <tr>\n",
       "      <th>0</th>\n",
       "      <td>1</td>\n",
       "      <td>1</td>\n",
       "      <td>de_vertigo</td>\n",
       "      <td>True</td>\n",
       "      <td>0.164070</td>\n",
       "    </tr>\n",
       "    <tr>\n",
       "      <th>0</th>\n",
       "      <td>1</td>\n",
       "      <td>1</td>\n",
       "      <td>de_train</td>\n",
       "      <td>False</td>\n",
       "      <td>0.494872</td>\n",
       "    </tr>\n",
       "    <tr>\n",
       "      <th>0</th>\n",
       "      <td>1</td>\n",
       "      <td>1</td>\n",
       "      <td>de_train</td>\n",
       "      <td>True</td>\n",
       "      <td>0.207180</td>\n",
       "    </tr>\n",
       "    <tr>\n",
       "      <th>0</th>\n",
       "      <td>1</td>\n",
       "      <td>1</td>\n",
       "      <td>de_cache</td>\n",
       "      <td>False</td>\n",
       "      <td>0.670132</td>\n",
       "    </tr>\n",
       "    <tr>\n",
       "      <th>0</th>\n",
       "      <td>1</td>\n",
       "      <td>1</td>\n",
       "      <td>de_cache</td>\n",
       "      <td>True</td>\n",
       "      <td>0.351441</td>\n",
       "    </tr>\n",
       "  </tbody>\n",
       "</table>\n",
       "</div>"
      ],
      "text/plain": [
       "   ct_players_alive  t_players_alive          map  bomb_planted      prob\n",
       "0                 1                1     de_dust2         False  0.412472\n",
       "0                 1                1     de_dust2          True  0.157726\n",
       "0                 1                1    de_mirage         False  0.445397\n",
       "0                 1                1    de_mirage          True  0.176422\n",
       "0                 1                1      de_nuke         False  0.489872\n",
       "0                 1                1      de_nuke          True  0.203914\n",
       "0                 1                1   de_inferno         False  0.407857\n",
       "0                 1                1   de_inferno          True  0.155208\n",
       "0                 1                1  de_overpass         False  0.452049\n",
       "0                 1                1  de_overpass          True  0.180363\n",
       "0                 1                1   de_vertigo         False  0.423906\n",
       "0                 1                1   de_vertigo          True  0.164070\n",
       "0                 1                1     de_train         False  0.494872\n",
       "0                 1                1     de_train          True  0.207180\n",
       "0                 1                1     de_cache         False  0.670132\n",
       "0                 1                1     de_cache          True  0.351441"
      ]
     },
     "execution_count": 33,
     "metadata": {},
     "output_type": "execute_result"
    }
   ],
   "source": [
    "P_win.query('ct_players_alive==1 and t_players_alive==1')"
   ]
  },
  {
   "cell_type": "code",
   "execution_count": 58,
   "id": "lucky-motel",
   "metadata": {},
   "outputs": [],
   "source": [
    "plot_data = P_win.pivot(index=['ct_players_alive', 't_players_alive', 'map'], columns='bomb_planted', values='prob')\n",
    "plot_data.columns = ['Bomb_not_planted', 'Bomb_planted']\n",
    "plot_data['plant_diff'] = plot_data['Bomb_planted'] - plot_data['Bomb_not_planted']"
   ]
  },
  {
   "cell_type": "code",
   "execution_count": 59,
   "id": "magnetic-springfield",
   "metadata": {},
   "outputs": [
    {
     "data": {
      "image/png": "[encoded data removed]",
      "text/plain": [
       "<Figure size 640x480 with 8 Axes>"
      ]
     },
     "metadata": {},
     "output_type": "display_data"
    },
    {
     "data": {
      "text/plain": [
       "<ggplot: (8794069306787)>"
      ]
     },
     "execution_count": 59,
     "metadata": {},
     "output_type": "execute_result"
    }
   ],
   "source": [
    "(\n",
    "    ggplot(plot_data.reset_index()) + \n",
    "      geom_point(aes(x='Bomb_not_planted', y='Bomb_planted')) + facet_wrap('~ map')\n",
    ")"
   ]
  },
  {
   "cell_type": "code",
   "execution_count": 63,
   "id": "sticky-grounds",
   "metadata": {},
   "outputs": [
    {
     "data": {
      "image/png": "[encoded data removed]",
      "text/plain": [
       "<Figure size 640x480 with 1 Axes>"
      ]
     },
     "metadata": {},
     "output_type": "display_data"
    },
    {
     "data": {
      "text/plain": [
       "<ggplot: (8794068026865)>"
      ]
     },
     "execution_count": 63,
     "metadata": {},
     "output_type": "execute_result"
    }
   ],
   "source": [
    "(\n",
    "    ggplot(plot_data.reset_index()) + \n",
    "      geom_point(aes(x='Bomb_not_planted', y='plant_diff')) \n",
    ")"
   ]
  },
  {
   "cell_type": "code",
   "execution_count": 31,
   "id": "consecutive-collector",
   "metadata": {},
   "outputs": [
    {
     "data": {
      "image/png": "[encoded data removed]",
      "text/plain": [
       "<Figure size 1500x300 with 16 Axes>"
      ]
     },
     "metadata": {},
     "output_type": "display_data"
    },
    {
     "data": {
      "text/plain": [
       "<ggplot: (8794069967728)>"
      ]
     },
     "execution_count": 31,
     "metadata": {},
     "output_type": "execute_result"
    }
   ],
   "source": [
    "from plotnine import *\n",
    "\n",
    "(\n",
    "    ggplot(P_win, aes(x='ct_players_alive', y='t_players_alive')) + \n",
    "      geom_tile(aes(fill='prob')) + \n",
    "      facet_grid('bomb_planted ~ map') + \n",
    "      scale_fill_gradient2(midpoint=0.5) + theme(figure_size=(15,3))\n",
    ")"
   ]
  },
  {
   "cell_type": "markdown",
   "id": "fancy-ordinance",
   "metadata": {},
   "source": [
    "# Next steps\n",
    "- Add more vars. In the current framework for non-discrete vars this means discritizing the vars.\n",
    "- Extending beyond conditionally independent. For example using a Bayesian Belief Network. "
   ]
  }
 ],
 "metadata": {
  "kernelspec": {
   "display_name": "Python 3",
   "language": "python",
   "name": "python3"
  },
  "language_info": {
   "codemirror_mode": {
    "name": "ipython",
    "version": 3
   },
   "file_extension": ".py",
   "mimetype": "text/x-python",
   "name": "python",
   "nbconvert_exporter": "python",
   "pygments_lexer": "ipython3",
   "version": "3.8.5"
  }
 },
 "nbformat": 4,
 "nbformat_minor": 5
}
