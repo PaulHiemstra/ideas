{
 "cells": [
  {
   "cell_type": "code",
   "execution_count": 33,
   "id": "fe868827",
   "metadata": {},
   "outputs": [],
   "source": [
    "import numpy as np\n",
    "import random\n",
    "\n",
    "class _2048:\n",
    "    def __init__(self, board_size = 4):\n",
    "        self.board_size = board_size\n",
    "        self.board = np.zeros([board_size,board_size])\n",
    "        self.merged_values = np.zeros([board_size, board_size])\n",
    "        self.board_indices = np.arange(board_size - 1)\n",
    "        x_coors = np.random.choice(self.board_indices, size = 2, replace=False)\n",
    "        y_coors = np.random.choice(self.board_indices, size = 2, replace=False)\n",
    "        self.board[x_coors, y_coors] = 2\n",
    "    def make_move(self, move):\n",
    "        # Actually make the move\n",
    "        merged_values = np.zeros([self.board_size, self.board_size])\n",
    "        if move == \"left\":\n",
    "            self.board = self.swap(self.board, merged_values, 0, 0)\n",
    "        elif move == \"right\":\n",
    "            self.board = np.rot90(self.swap(np.rot90(self.board, 2), merged_values, 0, 0), 2)\n",
    "        elif move == 'up':\n",
    "            self.board = np.rot90(self.swap(np.rot90(self.board, 1), merged_values, 0, 0), 3)\n",
    "        else:\n",
    "            self.board = np.rot90(self.swap(np.rot90(self.board, 3), merged_values, 0, 0), 1)\n",
    "            \n",
    "        # Randomly add a 2 or 4 at an empty location\n",
    "        board_zero_idxs = np.where(self.board == 0)\n",
    "        if board_zero_idxs[0].size == 0:   # Cannot place new value, game-over\n",
    "            return True\n",
    "        random_point = np.random.choice(np.arange(board_zero_idxs[0].size))\n",
    "        self.board[board_zero_idxs[0][random_point], board_zero_idxs[1][random_point]] = np.random.choice(np.array([2,4]))\n",
    "    def swap(self, board, merged_values, target_col_number, count):\n",
    "        # Swap values\n",
    "        rows_to_swap = np.where((board[:,target_col_number] == 0) & (board[:,target_col_number + 1] != 0))[0]\n",
    "        target_col = np.repeat(target_col_number, rows_to_swap.size)\n",
    "\n",
    "        if rows_to_swap.size > 0:\n",
    "            board[[rows_to_swap, rows_to_swap], [target_col, target_col + 1]] = board[[rows_to_swap, rows_to_swap],[target_col + 1, target_col]]\n",
    "            merged_values[[rows_to_swap, rows_to_swap], [target_col, target_col + 1]] = merged_values[[rows_to_swap, rows_to_swap],[target_col + 1, target_col]]\n",
    "        \n",
    "        rows_to_merge = (np.where((board[:,target_col_number] == board[:,target_col_number + 1]) & \n",
    "                                  (board[:,target_col_number] != 0) & \n",
    "                                  (merged_values[:,target_col_number] != 1) & \n",
    "                                  (merged_values[:,target_col_number + 1] != 1))[0])\n",
    "        if (rows_to_merge.size > 0):\n",
    "            board[tuple([rows_to_merge, target_col_number])] = 2 * board[tuple([rows_to_merge, target_col_number])]\n",
    "            merged_values[tuple([rows_to_merge, target_col_number])] = 1\n",
    "            board[tuple([rows_to_merge, target_col_number + 1])] = 0\n",
    "\n",
    "        if count == (self.board_size - 1) * (self.board_size - 1):                 # We've gone through the swapping so many times even the most right number has been pused all the way to the left\n",
    "            return board\n",
    "        elif target_col_number == self.board_size - 2:   # At the end of the board, back to start\n",
    "            return self.swap(board, merged_values, 0, count + 1)\n",
    "        else:                          # Next column\n",
    "            return self.swap(board, merged_values, target_col_number + 1, count + 1)"
   ]
  },
  {
   "cell_type": "code",
   "execution_count": 36,
   "id": "706e76ce",
   "metadata": {},
   "outputs": [],
   "source": [
    "from datetime import datetime\n",
    "\n",
    "x1 = datetime.now()"
   ]
  },
  {
   "cell_type": "code",
   "execution_count": 41,
   "id": "1981e884",
   "metadata": {},
   "outputs": [
    {
     "name": "stdout",
     "output_type": "stream",
     "text": [
      "0:00:00.000057\n"
     ]
    }
   ],
   "source": [
    "x1 = datetime.now()\n",
    "print(datetime.now() - x1)"
   ]
  },
  {
   "cell_type": "markdown",
   "id": "a6a4f4fe",
   "metadata": {},
   "source": [
    "# Board setup\n",
    "Just use a numpy array to store the board values. "
   ]
  },
  {
   "cell_type": "code",
   "execution_count": 34,
   "id": "e99544b0",
   "metadata": {},
   "outputs": [
    {
     "name": "stdout",
     "output_type": "stream",
     "text": [
      "[[8. 4. 0. 4.]\n",
      " [0. 0. 0. 0.]\n",
      " [0. 0. 0. 0.]\n",
      " [0. 0. 8. 0.]]\n"
     ]
    },
    {
     "data": {
      "text/plain": [
       "array([[8., 8., 0., 0.],\n",
       "       [0., 0., 0., 0.],\n",
       "       [0., 0., 2., 0.],\n",
       "       [8., 0., 0., 0.]])"
      ]
     },
     "execution_count": 34,
     "metadata": {},
     "output_type": "execute_result"
    }
   ],
   "source": [
    "board = np.zeros([4,4])\n",
    "board[0,0] = 8\n",
    "board[0,1] = 4\n",
    "board[0,3] = 4\n",
    "board[3,2] = 8\n",
    "\n",
    "game = _2048()\n",
    "game.board = board\n",
    "print(game.board)\n",
    "game.make_move('left')\n",
    "game.board"
   ]
  },
  {
   "cell_type": "code",
   "execution_count": 24,
   "id": "9b6340c0",
   "metadata": {},
   "outputs": [
    {
     "data": {
      "text/plain": [
       "array([[16.,  4.,  0.,  0.],\n",
       "       [ 4.,  0.,  0.,  0.],\n",
       "       [ 0.,  0.,  0.,  0.],\n",
       "       [ 8.,  2.,  4.,  0.]])"
      ]
     },
     "execution_count": 24,
     "metadata": {},
     "output_type": "execute_result"
    }
   ],
   "source": [
    "game.make_move('left')\n",
    "game.board"
   ]
  },
  {
   "cell_type": "code",
   "execution_count": 103,
   "id": "8e751c8b",
   "metadata": {},
   "outputs": [
    {
     "name": "stdout",
     "output_type": "stream",
     "text": [
      "[[0. 4. 0. 4.]\n",
      " [0. 0. 0. 0.]\n",
      " [0. 0. 0. 0.]\n",
      " [0. 0. 8. 0.]]\n",
      "[[0. 4. 0. 4.]\n",
      " [0. 0. 0. 4.]\n",
      " [0. 0. 0. 0.]\n",
      " [0. 0. 8. 0.]]\n"
     ]
    }
   ],
   "source": [
    "b2 = board.copy()\n",
    "print(b2)\n",
    "board_zero_idxs = np.where(board == 0)\n",
    "random_point = np.random.choice(np.arange(board_zero_idxs[0].size))\n",
    "b2[board_zero_idxs[0][random_point], board_zero_idxs[1][random_point]] = np.random.choice(np.array([2,4]))\n",
    "print(b2)"
   ]
  },
  {
   "cell_type": "markdown",
   "id": "1efb9aa5",
   "metadata": {},
   "source": [
    "# Movement\n",
    "Next we need to be able to make a move where:\n",
    "\n",
    "1. Blocks move until they hit either the edge or another non-empty square\n",
    "2. Blocks in the direction of move that have the same value merge, blocks behind that are moved up\n",
    "3. New 2 or 4 values are spawned in randomly\n",
    "\n",
    "# 1. Move to left"
   ]
  },
  {
   "cell_type": "code",
   "execution_count": 20,
   "id": "f7d0dea6",
   "metadata": {},
   "outputs": [
    {
     "data": {
      "text/plain": [
       "array([[0, 1, 2],\n",
       "       [3, 4, 5],\n",
       "       [6, 7, 8]])"
      ]
     },
     "execution_count": 20,
     "metadata": {},
     "output_type": "execute_result"
    }
   ],
   "source": [
    "board2 = np.arange(9).reshape([3,3])\n",
    "\n",
    "#input_seq[[ix1, ix2]] = input_seq[[ix2, ix1]]\n",
    "#board2[[np.where(board[:,0] == 0), 0]] = board2[[np.where(board[:,0] == 0), 1]]\n",
    "board2"
   ]
  },
  {
   "cell_type": "code",
   "execution_count": 42,
   "id": "49cc5031",
   "metadata": {},
   "outputs": [
    {
     "data": {
      "text/plain": [
       "2"
      ]
     },
     "execution_count": 42,
     "metadata": {},
     "output_type": "execute_result"
    }
   ],
   "source": [
    "board2 = np.arange(9).reshape([3,3])\n",
    "#board2[[0,0],[0,1]] = board2[[0,0],[1,0]]\n",
    "    #  old_x, old_y          new_x, new_y\n",
    "\n",
    "x=0\n",
    "y=1\n",
    "point_a = [0,0]\n",
    "point_b = [0,1]\n",
    "\n",
    "board2[[point_a[x], point_b[x]], [point_a[y], point_b[y]]] = board2[[point_b[x], point_a[x]],[point_b[y], point_a[y]]]\n",
    "\n",
    "board2[0,2]"
   ]
  },
  {
   "cell_type": "code",
   "execution_count": 88,
   "id": "30b92ce9",
   "metadata": {},
   "outputs": [
    {
     "data": {
      "text/plain": [
       "array([0., 0.])"
      ]
     },
     "execution_count": 88,
     "metadata": {},
     "output_type": "execute_result"
    }
   ],
   "source": [
    "board[tuple([[0,1],0])]"
   ]
  },
  {
   "cell_type": "code",
   "execution_count": 38,
   "id": "d9ef98c8",
   "metadata": {},
   "outputs": [
    {
     "data": {
      "text/plain": [
       "(array([0, 1, 2, 3]),)"
      ]
     },
     "execution_count": 38,
     "metadata": {},
     "output_type": "execute_result"
    }
   ],
   "source": [
    "# Which rows in the first column are shiftable\n",
    "np.where(board[:,0] == 0)\n",
    "# Where this holds, the values in those rows needs to be swapped between column 0 and 1"
   ]
  },
  {
   "cell_type": "code",
   "execution_count": 11,
   "id": "cddbb41b",
   "metadata": {},
   "outputs": [
    {
     "name": "stdout",
     "output_type": "stream",
     "text": [
      "[[0. 4. 0. 4.]\n",
      " [0. 0. 0. 0.]\n",
      " [0. 0. 0. 0.]\n",
      " [0. 0. 8. 0.]]\n"
     ]
    },
    {
     "data": {
      "text/plain": [
       "array([[8., 0., 0., 0.],\n",
       "       [0., 0., 0., 0.],\n",
       "       [0., 0., 0., 0.],\n",
       "       [8., 0., 0., 0.]])"
      ]
     },
     "execution_count": 11,
     "metadata": {},
     "output_type": "execute_result"
    }
   ],
   "source": [
    "import seaborn as sns\n",
    "\n",
    "def swap_and_merge(board, target_col_number, count):\n",
    "    # Swap values\n",
    "    rows_to_swap = np.where((board[:,target_col_number] == 0) & (board[:,target_col_number + 1] != 0))[0]\n",
    "    target_col = np.repeat(target_col_number, rows_to_swap.size)\n",
    "\n",
    "    if rows_to_swap.size > 0:\n",
    "        board[[rows_to_swap, rows_to_swap], [target_col, target_col + 1]] = board[[rows_to_swap, rows_to_swap],[target_col + 1, target_col]]\n",
    "    \n",
    "    # Merge values\n",
    "    rows_to_merge = np.where((board[:,target_col_number] == board[:,target_col_number + 1]) & (board[:,target_col_number] != 0))[0]\n",
    "    if rows_to_merge.size > 0:\n",
    "        board[tuple([rows_to_merge, target_col_number])] = 2 * board[tuple([rows_to_merge, target_col_number])]\n",
    "        board[tuple([rows_to_merge, target_col_number + 1])] = 0\n",
    "    \n",
    "    if count == 9:                 # We've gone through the swapping so many times even the most right number has been pused all the way to the left\n",
    "        return board\n",
    "    elif target_col_number == 2:   # At the end of the board, back to start\n",
    "        return swap_and_merge(board, 0, count + 1)\n",
    "    else:                          # Next column\n",
    "        return swap_and_merge(board, target_col_number + 1, count + 1)\n",
    "\n",
    "print(board)\n",
    "swap_and_merge(board.copy(), 0, 0)"
   ]
  },
  {
   "cell_type": "code",
   "execution_count": 26,
   "id": "ec084207",
   "metadata": {},
   "outputs": [
    {
     "name": "stdout",
     "output_type": "stream",
     "text": [
      "[[0. 4. 0. 4.]\n",
      " [0. 0. 0. 0.]\n",
      " [0. 0. 0. 0.]\n",
      " [0. 0. 8. 0.]]\n",
      "[[0. 0. 0. 8.]\n",
      " [0. 0. 0. 0.]\n",
      " [0. 0. 0. 0.]\n",
      " [0. 0. 0. 8.]]\n"
     ]
    },
    {
     "data": {
      "text/plain": [
       "array([[ 0.,  0.,  0.,  0.],\n",
       "       [ 0.,  0.,  0.,  0.],\n",
       "       [ 0.,  0.,  0.,  0.],\n",
       "       [ 0.,  0.,  0., 16.]])"
      ]
     },
     "execution_count": 26,
     "metadata": {},
     "output_type": "execute_result"
    }
   ],
   "source": [
    "def make_move(board, move):\n",
    "    if move == \"left\":\n",
    "        return swap_and_merge(board, 0, 0)\n",
    "    elif move == \"right\":\n",
    "        return np.rot90(swap_and_merge(np.rot90(board, 2), 0, 0), 2)\n",
    "    elif move == 'up':\n",
    "        return np.rot90(swap_and_merge(np.rot90(board, 1), 0, 0), 3)\n",
    "    else:\n",
    "        return np.rot90(swap_and_merge(np.rot90(board, 3), 0, 0), 1)\n",
    "    \n",
    "print(board)\n",
    "b2 = make_move(board.copy(), 'right')\n",
    "print(b2)\n",
    "make_move(b2, 'down')"
   ]
  },
  {
   "cell_type": "code",
   "execution_count": 20,
   "id": "cb2fd6b2",
   "metadata": {},
   "outputs": [
    {
     "data": {
      "text/plain": [
       "array([[0., 8., 0., 0.],\n",
       "       [0., 0., 0., 0.],\n",
       "       [0., 0., 0., 0.],\n",
       "       [4., 0., 4., 0.]])"
      ]
     },
     "execution_count": 20,
     "metadata": {},
     "output_type": "execute_result"
    }
   ],
   "source": [
    "np.rot90(board, 2)"
   ]
  },
  {
   "cell_type": "code",
   "execution_count": 73,
   "id": "5d94d8a3",
   "metadata": {},
   "outputs": [
    {
     "data": {
      "text/plain": [
       "5"
      ]
     },
     "execution_count": 73,
     "metadata": {},
     "output_type": "execute_result"
    }
   ],
   "source": [
    "x = np.zeros(5)\n",
    "np.where((x == 1) | (x == 0))[0].size"
   ]
  },
  {
   "cell_type": "code",
   "execution_count": 36,
   "id": "f4815a69",
   "metadata": {},
   "outputs": [
    {
     "data": {
      "text/plain": [
       "array([0, 1, 2, 3, 4, 5, 6, 7, 8, 9])"
      ]
     },
     "execution_count": 36,
     "metadata": {},
     "output_type": "execute_result"
    }
   ],
   "source": [
    "input_seq = np.arange(10)\n",
    "input_seq"
   ]
  },
  {
   "cell_type": "code",
   "execution_count": 37,
   "id": "5cba6100",
   "metadata": {},
   "outputs": [
    {
     "data": {
      "text/plain": [
       "array([0, 1, 8, 3, 4, 5, 6, 7, 2, 9])"
      ]
     },
     "execution_count": 37,
     "metadata": {},
     "output_type": "execute_result"
    }
   ],
   "source": [
    "ix1 = 2\n",
    "ix2 = 8\n",
    "input_seq[[ix1, ix2]] = input_seq[[ix2, ix1]]\n",
    "input_seq"
   ]
  }
 ],
 "metadata": {
  "kernelspec": {
   "display_name": "Python 3",
   "language": "python",
   "name": "python3"
  },
  "language_info": {
   "codemirror_mode": {
    "name": "ipython",
    "version": 3
   },
   "file_extension": ".py",
   "mimetype": "text/x-python",
   "name": "python",
   "nbconvert_exporter": "python",
   "pygments_lexer": "ipython3",
   "version": "3.7.10"
  }
 },
 "nbformat": 4,
 "nbformat_minor": 5
}
