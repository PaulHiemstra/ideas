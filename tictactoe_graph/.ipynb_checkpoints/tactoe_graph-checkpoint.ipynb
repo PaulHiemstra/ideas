{
 "cells": [
  {
   "cell_type": "markdown",
   "metadata": {},
   "source": [
    "# Simple minmax game\n",
    "I stole the idea [from here](https://www.geeksforgeeks.org/minimax-algorithm-in-game-theory-set-1-introduction/). The implementation uses a `Tree` datatype from [treelib](https://treelib.readthedocs.io/en/latest/). It uses the following game:\n",
    "\n",
    "![tree](tac_toe_simple_min_max.png)\n",
    "\n",
    "Two people play, each getting to choose left or right. The first player wants the highest number possible, the second the lowest number (hence minmax). Assuming each player always takes the optimal pick, you can calculate the maximum score player one can get. \n",
    "\n",
    "I create a tree that mirrors this:"
   ]
  },
  {
   "cell_type": "code",
   "execution_count": 1,
   "metadata": {},
   "outputs": [
    {
     "name": "stdout",
     "output_type": "stream",
     "text": [
      "root\n",
      "├── \n",
      "│   ├── 3\n",
      "│   └── 5\n",
      "└── \n",
      "    ├── 2\n",
      "    └── 9\n",
      "\n"
     ]
    }
   ],
   "source": [
    "from treelib import Node, Tree\n",
    "\n",
    "tree = Tree()\n",
    "tree.create_node(\"root\", \"root\")\n",
    "tree.create_node(\"\", \"l1\", parent='root')\n",
    "tree.create_node(\"\", \"r1\", parent='root')\n",
    "tree.create_node(\"3\", \"l1-1\", parent='l1')\n",
    "tree.create_node(\"5\", \"l1-2\", parent='l1')\n",
    "tree.create_node(\"2\", \"r1-1\", parent='r1')\n",
    "tree.create_node(\"9\", \"r1-2\", parent='r1')\n",
    "tree\n",
    "tree.show()"
   ]
  },
  {
   "cell_type": "code",
   "execution_count": 2,
   "metadata": {},
   "outputs": [
    {
     "data": {
      "text/plain": [
       "3"
      ]
     },
     "execution_count": 2,
     "metadata": {},
     "output_type": "execute_result"
    }
   ],
   "source": [
    "def minmax(tree, current_id, is_max):\n",
    "    if tree.depth(current_id) == tree.depth():\n",
    "        return int(tree[current_id].tag)\n",
    "    children_of_current_id = tree.children(current_id)\n",
    "    scores = [minmax(tree, child.identifier, not is_max) for child in children_of_current_id]\n",
    "    if is_max:\n",
    "        return max(scores)\n",
    "    else:\n",
    "        return min(scores)\n",
    "\n",
    "minmax(tree, 'root', True)"
   ]
  },
  {
   "cell_type": "markdown",
   "metadata": {},
   "source": [
    "What happens here is:\n",
    "    \n",
    "    start-game: minmax('root') -> \n",
    "    max-player: max([minmax('l1'), minmax('r1')]) -> \n",
    "    min-player: max([min([minmax('l1-1), minmax('l1-2')]), \n",
    "                     min([minmax('r1-1'), minmax('r1-1')])]) ->\n",
    "    end-tree  : max([min([3, 5]), \n",
    "                     min([2, 9])]) -> \n",
    "                max([3, 2]) ->\n",
    "                3"
   ]
  },
  {
   "cell_type": "markdown",
   "metadata": {},
   "source": [
    "So, the maximum score player one can get is 3. The fun thing here is that player 1 needs to first choose the arm of the tree that has the lower max score (5 vs 9), because you know the second player will always choose the lowest score. So the highest-lowest score (minmax) is 3 for the left arm, versus 2 for the right arm. \n",
    "\n",
    "# More complex game: Tic-tac-toe\n",
    "First 2x2 tic tac toe:"
   ]
  },
  {
   "cell_type": "code",
   "execution_count": 3,
   "metadata": {},
   "outputs": [],
   "source": [
    "letters = ['a', 'b', 'c', 'd', 'e', 'f', 'g', 'h', 'i']\n",
    "\n",
    "def remove_value_list(l, val):\n",
    "    return [el for el in l if el != val]\n",
    "\n",
    "possible_options = letters[0:4]\n",
    "\n",
    "def add_options_to_node(tree, node, remaining_options):\n",
    "    for option in remaining_options:\n",
    "        if node.identifier != 'root':\n",
    "            new_identifier = node.identifier + option\n",
    "        else:\n",
    "            new_identifier = option\n",
    "        tree.create_node(option, new_identifier, node.identifier)\n",
    "        if len(remaining_options) > 1:\n",
    "            add_options_to_node(tree, tree[new_identifier], remove_value_list(remaining_options, option))\n",
    "    return None\n",
    "\n",
    "TicToe_2x2 = Tree()\n",
    "TicToe_2x2.create_node(\"root\", \"root\")\n",
    "add_options_to_node(TicToe_2x2, TicToe_2x2[\"root\"], possible_options)"
   ]
  },
  {
   "cell_type": "code",
   "execution_count": 4,
   "metadata": {},
   "outputs": [
    {
     "name": "stdout",
     "output_type": "stream",
     "text": [
      "b\n",
      "├── c\n",
      "│   └── d\n",
      "└── d\n",
      "    └── c\n",
      "\n"
     ]
    }
   ],
   "source": [
    "TicToe_2x2.subtree('ab').show()"
   ]
  },
  {
   "cell_type": "code",
   "execution_count": 5,
   "metadata": {},
   "outputs": [
    {
     "name": "stdout",
     "output_type": "stream",
     "text": [
      "[[0. 1. 0.]\n",
      " [0. 0. 0.]\n",
      " [0. 0. 0.]]\n",
      "Is game done?:  False\n",
      "[[1. 1. 0.]\n",
      " [0. 0. 0.]\n",
      " [0. 0. 0.]]\n",
      "Is game done?:  False\n",
      "[[1. 1. 1.]\n",
      " [0. 0. 0.]\n",
      " [0. 0. 0.]]\n",
      "Is game done?:  True\n"
     ]
    }
   ],
   "source": [
    "import numpy as np\n",
    "\n",
    "class Tictoe:\n",
    "    def __init__(self, size):\n",
    "        self.size = size\n",
    "        self.board = np.zeros(size*size)\n",
    "        self.letters_to_move = ['a', 'b', 'c', 'd', 'e', 'f', 'g', 'h', 'i'][:size*size]\n",
    "    def get_board(self):\n",
    "        return self.board.reshape([self.size, self.size])\n",
    "    def make_move(self, who, where, verbose=False):\n",
    "        self.board[self.letters_to_move.index(where)] = who\n",
    "        if verbose:\n",
    "            print(self.get_board())\n",
    "            print('Is game done?: ', self.is_endstate())\n",
    "    def get_sums_of_board(self):\n",
    "        local_board = self.get_board()\n",
    "        return np.concatenate([local_board.sum(axis=0),             # columns\n",
    "                               local_board.sum(axis=1),             # rows\n",
    "                               np.trace(local_board),               # diagonal\n",
    "                               np.trace(np.fliplr(local_board))], axis=None)   # other diagonal\n",
    "    def is_endstate(self):\n",
    "        someone_won = len(np.intersect1d((self.size, -self.size), self.get_sums_of_board())) > 0\n",
    "        draw = np.count_nonzero(self.board) == self.size * self.size\n",
    "        return someone_won or draw\n",
    "    def get_value(self):\n",
    "        sums = self.get_sums_of_board()\n",
    "        if self.size in sums:\n",
    "            return 10\n",
    "        elif -self.size in sums:\n",
    "            return -10\n",
    "        else:\n",
    "            return 0\n",
    "   \n",
    "tt_2x = Tictoe(3)\n",
    "tt_2x.make_move(1, 'b', True)\n",
    "tt_2x.make_move(1, 'a', True)\n",
    "tt_2x.make_move(1, 'c', True)"
   ]
  },
  {
   "cell_type": "code",
   "execution_count": 6,
   "metadata": {},
   "outputs": [
    {
     "data": {
      "text/plain": [
       "array([[1., 1., 1.],\n",
       "       [0., 0., 0.],\n",
       "       [0., 0., 0.]])"
      ]
     },
     "execution_count": 6,
     "metadata": {},
     "output_type": "execute_result"
    }
   ],
   "source": [
    "tt_2x.get_board()"
   ]
  },
  {
   "cell_type": "markdown",
   "metadata": {},
   "source": [
    "# Combine the class and the tree"
   ]
  },
  {
   "cell_type": "code",
   "execution_count": 7,
   "metadata": {},
   "outputs": [],
   "source": [
    "import copy\n",
    "\n",
    "def remove_value_list(l, val):\n",
    "    return [el for el in l if el != val]\n",
    "\n",
    "flip_player = {1: -1, -1: 1}\n",
    "\n",
    "possible_options = letters\n",
    "\n",
    "def add_options_to_node(tree, node, tt_data, player, remaining_options):\n",
    "    for option in remaining_options:\n",
    "        local_tt_data = copy.deepcopy(tt_data)           # To prevent changing these values in other branches of the tree\n",
    "        local_tt_data.make_move(player, option, False)\n",
    "        if node.identifier != 'root':\n",
    "            new_identifier = node.identifier + option\n",
    "        else:\n",
    "            new_identifier = option\n",
    "        tree.create_node(option, new_identifier, node.identifier, data = local_tt_data)\n",
    "        if len(remaining_options) > 1 and not local_tt_data.is_endstate():\n",
    "            add_options_to_node(tree, tree[new_identifier], local_tt_data, \n",
    "                                flip_player[player], remove_value_list(remaining_options, option))\n",
    "    return None\n",
    "\n",
    "TicToe_state = Tictoe(3)\n",
    "TicToe_3x3 = Tree()\n",
    "TicToe_3x3.create_node(\"root\", \"root\")\n",
    "add_options_to_node(TicToe_3x3, TicToe_3x3[\"root\"], \n",
    "                    TicToe_state, 1, possible_options)"
   ]
  },
  {
   "cell_type": "code",
   "execution_count": 8,
   "metadata": {},
   "outputs": [
    {
     "name": "stdout",
     "output_type": "stream",
     "text": [
      "549946\n"
     ]
    },
    {
     "data": {
      "text/plain": [
       "array([[ 1.,  0., -1.],\n",
       "       [-1.,  0.,  0.],\n",
       "       [ 0.,  0.,  1.]])"
      ]
     },
     "execution_count": 8,
     "metadata": {},
     "output_type": "execute_result"
    }
   ],
   "source": [
    "print(len(TicToe_3x3))\n",
    "TicToe_3x3['acid'].data.get_board()"
   ]
  },
  {
   "cell_type": "markdown",
   "metadata": {},
   "source": [
    "# Now extract from the tree given a certain board what the next best move is"
   ]
  },
  {
   "cell_type": "code",
   "execution_count": 9,
   "metadata": {},
   "outputs": [
    {
     "data": {
      "text/plain": [
       "'e'"
      ]
     },
     "execution_count": 9,
     "metadata": {},
     "output_type": "execute_result"
    }
   ],
   "source": [
    "def minmax_tt(tree, current_id, is_max):\n",
    "    #print('Dealing with id: ', current_id)\n",
    "    current_node = tree[current_id] \n",
    "    if current_node.data.is_endstate():\n",
    "        return current_node.data.get_value()\n",
    "    children_of_current_id = tree.children(current_id)\n",
    "    scores = [minmax_tt(tree, child.identifier, not is_max) for child in children_of_current_id]\n",
    "    if is_max:\n",
    "        return max(scores)\n",
    "    else:\n",
    "        return min(scores)\n",
    "    \n",
    "def determine_move(tree, current_id, is_max):\n",
    "    potential_moves = tree.children(current_id)\n",
    "    moves = [child.identifier[-1] for child in potential_moves]\n",
    "    raw_scores = [minmax_tt(tree, child.identifier, not is_max) for child in potential_moves]\n",
    "    #print(dict(zip(moves, raw_scores)))\n",
    "    if is_max:\n",
    "        return moves[raw_scores.index(max(raw_scores))]\n",
    "    else:\n",
    "        return moves[raw_scores.index(min(raw_scores))]\n",
    "\n",
    "# [child.identifier for child in children_of_current_id]    \n",
    "determine_move(TicToe_3x3, 'acid', True)"
   ]
  },
  {
   "cell_type": "markdown",
   "metadata": {},
   "source": [
    "# And now use it to play against the AI"
   ]
  },
  {
   "cell_type": "code",
   "execution_count": 10,
   "metadata": {},
   "outputs": [
    {
     "data": {
      "text/plain": [
       "0"
      ]
     },
     "execution_count": 10,
     "metadata": {},
     "output_type": "execute_result"
    }
   ],
   "source": [
    "l = [1,1,3]\n",
    "l.index(min(l))"
   ]
  },
  {
   "cell_type": "code",
   "execution_count": 20,
   "metadata": {},
   "outputs": [
    {
     "ename": "SyntaxError",
     "evalue": "invalid syntax (<ipython-input-20-7ffb268b9800>, line 28)",
     "output_type": "error",
     "traceback": [
      "\u001b[0;36m  File \u001b[0;32m\"<ipython-input-20-7ffb268b9800>\"\u001b[0;36m, line \u001b[0;32m28\u001b[0m\n\u001b[0;31m    if len(move_history) >= 8 not tictactoe.is_endstate():\u001b[0m\n\u001b[0m                                          ^\u001b[0m\n\u001b[0;31mSyntaxError\u001b[0m\u001b[0;31m:\u001b[0m invalid syntax\n"
     ]
    }
   ],
   "source": [
    "tictactoe = Tictoe(3)\n",
    "\n",
    "print('''Welcome to TicTacToe. \n",
    "\n",
    "You can make a move by selecting one of the following letters:''')\n",
    "print(np.array(letters).reshape(3,3))\n",
    "print('''You start, the computer will take the next move\n",
    "\n",
    "Initial board:''')\n",
    "\n",
    "move_history = ''\n",
    "while not tictactoe.is_endstate():\n",
    "    player_move = input('Your move!: ')\n",
    "    tictactoe.make_move(1, player_move)\n",
    "    print(tictactoe.get_board())\n",
    "    move_history += player_move\n",
    "    if tictactoe.is_endstate():\n",
    "        print('You won!')\n",
    "    \n",
    "    print('Computer is thinking')\n",
    "    computer_move = determine_move(TicToe_3x3, move_history, False)\n",
    "    tictactoe.make_move(-1, computer_move)\n",
    "    print(tictactoe.get_board())\n",
    "    move_history += computer_move\n",
    "    if tictactoe.is_endstate():\n",
    "        print('Computer won!')\n",
    "        \n",
    "    if len(move_history) >= 8 and not tictactoe.is_endstate():\n",
    "        print('Draw...')\n",
    "        break"
   ]
  }
 ],
 "metadata": {
  "kernelspec": {
   "display_name": "Python 3",
   "language": "python",
   "name": "python3"
  },
  "language_info": {
   "codemirror_mode": {
    "name": "ipython",
    "version": 3
   },
   "file_extension": ".py",
   "mimetype": "text/x-python",
   "name": "python",
   "nbconvert_exporter": "python",
   "pygments_lexer": "ipython3",
   "version": "3.7.9"
  }
 },
 "nbformat": 4,
 "nbformat_minor": 4
}
