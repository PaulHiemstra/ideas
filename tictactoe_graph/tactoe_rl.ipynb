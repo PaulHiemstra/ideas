{
 "cells": [
  {
   "cell_type": "markdown",
   "id": "received-wisdom",
   "metadata": {},
   "source": [
    "# \n",
    "\n",
    "[Insprired by](https://towardsdatascience.com/reinforcement-learning-implement-tictactoe-189582bea542), see also chapter 6.5 of Sutton etal. \n",
    "\n",
    "- https://towardsdatascience.com/simple-reinforcement-learning-q-learning-fcddc4b6fe56\n",
    "- https://en.wikipedia.org/wiki/Q-learning\n",
    "- https://www.learndatasci.com/tutorials/reinforcement-q-learning-scratch-python-openai-gym/"
   ]
  },
  {
   "cell_type": "code",
   "execution_count": 20,
   "id": "american-marina",
   "metadata": {},
   "outputs": [],
   "source": [
    "from support_functions import *\n",
    "import numpy as np\n",
    "import dill\n",
    "import itertools"
   ]
  },
  {
   "cell_type": "code",
   "execution_count": 2,
   "id": "inside-shower",
   "metadata": {},
   "outputs": [
    {
     "data": {
      "text/plain": [
       "['a', 'b', 'c', 'd', 'e', 'f', 'g', 'h', 'i']"
      ]
     },
     "execution_count": 2,
     "metadata": {},
     "output_type": "execute_result"
    }
   ],
   "source": [
    "tactoe = Tictoe(3)\n",
    "tactoe.get_possible_next_moves()"
   ]
  },
  {
   "cell_type": "code",
   "execution_count": 37,
   "id": "driven-ottawa",
   "metadata": {},
   "outputs": [
    {
     "data": {
      "text/plain": [
       "1"
      ]
     },
     "execution_count": 37,
     "metadata": {},
     "output_type": "execute_result"
    }
   ],
   "source": [
    "d = {'a': 1, 'b': 1, 'c': 0}\n",
    "np.argmax(np.array(d.values()))\n",
    "#np.argwhere()\n",
    "a = np.array(list(d.values()))\n",
    "#list(d.keys())[np.flatten(random.choice(np.argwhere(a == np.amax(a))))]\n",
    "[1,2,3][int(random.choice(np.argwhere(a == np.amax(a))))]"
   ]
  },
  {
   "cell_type": "markdown",
   "id": "graduate-struggle",
   "metadata": {},
   "source": [
    "# Make the Q-table"
   ]
  },
  {
   "cell_type": "markdown",
   "id": "sufficient-bleeding",
   "metadata": {},
   "source": [
    "# Training against self"
   ]
  },
  {
   "cell_type": "code",
   "execution_count": 4,
   "id": "public-ballot",
   "metadata": {
    "collapsed": true,
    "jupyter": {
     "outputs_hidden": true
    }
   },
   "outputs": [
    {
     "name": "stderr",
     "output_type": "stream",
     "text": [
      "100%|██████████| 1000000/1000000 [13:30<00:00, 1234.22it/s]\n"
     ]
    },
    {
     "name": "stdout",
     "output_type": "stream",
     "text": [
      "\n",
      "\n",
      "2201\n",
      "2097\n"
     ]
    },
    {
     "data": {
      "text/plain": [
       "<AxesSubplot:>"
      ]
     },
     "execution_count": 4,
     "metadata": {},
     "output_type": "execute_result"
    },
    {
     "data": {
      "image/png": "[encoded data removed]",
      "text/plain": [
       "<Figure size 432x288 with 1 Axes>"
      ]
     },
     "metadata": {
      "needs_background": "light"
     },
     "output_type": "display_data"
    }
   ],
   "source": [
    "player1 = Player_vs_self(1, \n",
    "                 alpha = 0.1, \n",
    "                 gamma = 0.9,\n",
    "                 epsilon = 0.1)\n",
    "player2 = Player_vs_self(-1, \n",
    "                 alpha = 0.1,\n",
    "                 gamma = 0.9, \n",
    "                 epsilon = 0.4)\n",
    "\n",
    "# Training the policy\n",
    "player1, player2, p1_rewards, p2_rewards, paths = play_tictactoe_vs_self(1000000, player1, player2, verbose=False)\n",
    "print('\\n')\n",
    "print(len(player1.get_qtable()))\n",
    "print(len(player2.get_qtable()))\n",
    "pd.Series(p1_rewards).rolling(1000).mean().plot()\n",
    "pd.Series(p2_rewards).rolling(1000).mean().plot()"
   ]
  },
  {
   "cell_type": "code",
   "execution_count": null,
   "id": "impressed-supply",
   "metadata": {},
   "outputs": [],
   "source": [
    "player1.get_qtable()"
   ]
  },
  {
   "cell_type": "code",
   "execution_count": 14,
   "id": "approximate-vintage",
   "metadata": {},
   "outputs": [],
   "source": [
    "with open('player1.pkl', 'wb') as f:\n",
    "    dill.dump(player1, f)"
   ]
  },
  {
   "cell_type": "markdown",
   "id": "facial-violence",
   "metadata": {},
   "source": [
    "# Validation against self"
   ]
  },
  {
   "cell_type": "code",
   "execution_count": 103,
   "id": "molecular-discrimination",
   "metadata": {},
   "outputs": [
    {
     "name": "stderr",
     "output_type": "stream",
     "text": [
      "100%|██████████| 10/10 [00:00<00:00, 1286.40it/s]\n"
     ]
    },
    {
     "data": {
      "text/plain": [
       "10.0"
      ]
     },
     "execution_count": 103,
     "metadata": {},
     "output_type": "execute_result"
    }
   ],
   "source": [
    "# Validating the model. Setting epsilon to 0 ensures always using the optimal strategy\n",
    "\n",
    "player1.set_params(epsilon = 0)\n",
    "random_player = Player(1, epsilon=1.0)\n",
    "player2.set_params(epsilon = 0)\n",
    "\n",
    "player1, player2, p1_rewards, p2_rewards, paths = play_tictactoe(10, player1, player2, verbose=False)\n",
    "pd.Series(p1_rewards).mean()"
   ]
  },
  {
   "cell_type": "markdown",
   "id": "amended-arthritis",
   "metadata": {},
   "source": [
    "# Training against tree"
   ]
  },
  {
   "cell_type": "code",
   "execution_count": 68,
   "id": "amateur-recovery",
   "metadata": {},
   "outputs": [
    {
     "name": "stdout",
     "output_type": "stream",
     "text": [
      "Loading tree...\n"
     ]
    },
    {
     "name": "stderr",
     "output_type": "stream",
     "text": [
      "  0%|          | 0/623529 [00:00<?, ?it/s]"
     ]
    },
    {
     "name": "stdout",
     "output_type": "stream",
     "text": [
      "Precomputing best moves...\n"
     ]
    },
    {
     "name": "stderr",
     "output_type": "stream",
     "text": [
      "100%|██████████| 623529/623529 [00:02<00:00, 280382.73it/s]\n",
      "100%|██████████| 1000000/1000000 [13:05<00:00, 1272.63it/s]\n"
     ]
    }
   ],
   "source": [
    "tictactoe = Tictoe(3)\n",
    "player_tree = Player_vs_tree(1,\n",
    "                            alpha = 0.01,\n",
    "                            gamma = 0.8,\n",
    "                            epsilon = 0.1)\n",
    "\n",
    "no_episodes = 1000000\n",
    "rewards = np.zeros(no_episodes)\n",
    "for ep_idx in tqdm(range(no_episodes)):\n",
    "    while not tictactoe.is_endstate():\n",
    "        tictactoe = player_tree.make_move(tictactoe, False)\n",
    "    rewards[ep_idx] = tictactoe.get_reward(1)\n",
    "    tictactoe.reset_board()"
   ]
  },
  {
   "cell_type": "code",
   "execution_count": 69,
   "id": "departmental-carry",
   "metadata": {},
   "outputs": [
    {
     "data": {
      "text/plain": [
       "<AxesSubplot:>"
      ]
     },
     "execution_count": 69,
     "metadata": {},
     "output_type": "execute_result"
    },
    {
     "data": {
      "image/png": "[encoded data removed]",
      "text/plain": [
       "<Figure size 432x288 with 1 Axes>"
      ]
     },
     "metadata": {
      "needs_background": "light"
     },
     "output_type": "display_data"
    }
   ],
   "source": [
    "pd.Series(rewards).rolling(1000).mean().plot()"
   ]
  },
  {
   "cell_type": "code",
   "execution_count": null,
   "id": "little-headset",
   "metadata": {},
   "outputs": [],
   "source": [
    "player_tree.get_qtable()"
   ]
  },
  {
   "cell_type": "code",
   "execution_count": 135,
   "id": "naughty-generation",
   "metadata": {},
   "outputs": [],
   "source": [
    "with open('well_tree_trained_rl_agent.pkl', 'wb') as f:\n",
    "    tree = dill.dump(player_tree, f)"
   ]
  },
  {
   "cell_type": "markdown",
   "id": "danish-inside",
   "metadata": {},
   "source": [
    "# Validate against tree"
   ]
  },
  {
   "cell_type": "code",
   "execution_count": null,
   "id": "southern-color",
   "metadata": {},
   "outputs": [],
   "source": [
    "print('Loading tree...')\n",
    "with open('tree_tctoe_3x3.pkl', 'rb') as f:\n",
    "    tree = dill.load(f)"
   ]
  },
  {
   "cell_type": "code",
   "execution_count": 129,
   "id": "welsh-constitutional",
   "metadata": {},
   "outputs": [
    {
     "name": "stderr",
     "output_type": "stream",
     "text": [
      "100%|██████████| 10000/10000 [00:09<00:00, 1064.58it/s]\n"
     ]
    },
    {
     "data": {
      "text/plain": [
       "<AxesSubplot:>"
      ]
     },
     "execution_count": 129,
     "metadata": {},
     "output_type": "execute_result"
    },
    {
     "data": {
      "image/png": "[encoded data removed]",
      "text/plain": [
       "<Figure size 432x288 with 1 Axes>"
      ]
     },
     "metadata": {
      "needs_background": "light"
     },
     "output_type": "display_data"
    }
   ],
   "source": [
    "tictactoe = Tictoe(3)\n",
    "player_solo_tree = Player_tree(tree, -1)\n",
    "player_tree.set_params(epsilon = 0)\n",
    "\n",
    "no_episodes = 10000\n",
    "rewards = np.zeros(no_episodes)\n",
    "for ep_idx in tqdm(range(no_episodes)):\n",
    "    #print(ep_idx)\n",
    "    while not tictactoe.is_endstate():\n",
    "        tictactoe = player_tree.make_move(tictactoe, False)\n",
    "        #print(tictactoe.get_board())\n",
    "        if not tictactoe.is_endstate():\n",
    "            tictactoe.make_move(-1, player_solo_tree.make_move(tictactoe.get_moves_made()))\n",
    "        #print(tictactoe.get_board())\n",
    "    rewards[ep_idx] = tictactoe.get_reward(1)\n",
    "    tictactoe.reset_board()\n",
    "pd.Series(rewards).rolling(100).mean().plot()"
   ]
  },
  {
   "cell_type": "code",
   "execution_count": 128,
   "id": "labeled-framing",
   "metadata": {},
   "outputs": [
    {
     "name": "stderr",
     "output_type": "stream",
     "text": [
      "100%|██████████| 10000/10000 [00:06<00:00, 1604.30it/s]\n"
     ]
    },
    {
     "data": {
      "text/plain": [
       "<AxesSubplot:>"
      ]
     },
     "execution_count": 128,
     "metadata": {},
     "output_type": "execute_result"
    },
    {
     "data": {
      "image/png": "[encoded data removed]",
      "text/plain": [
       "<Figure size 432x288 with 1 Axes>"
      ]
     },
     "metadata": {
      "needs_background": "light"
     },
     "output_type": "display_data"
    }
   ],
   "source": [
    "tictactoe = Tictoe(3)\n",
    "player_solo_tree = Player_tree(tree, -1)\n",
    "player_tree.set_params(epsilon = 0)  # <---- play randomly\n",
    "\n",
    "no_episodes = 10000\n",
    "rewards = np.zeros(no_episodes)\n",
    "for ep_idx in tqdm(range(no_episodes)):\n",
    "    #print(ep_idx)\n",
    "    while not tictactoe.is_endstate():\n",
    "        tictactoe.make_move(1, random.choice(tictactoe.get_possible_next_moves()))\n",
    "        #print(tictactoe.get_board())\n",
    "        if not tictactoe.is_endstate():\n",
    "            tictactoe.make_move(-1, player_solo_tree.make_move(tictactoe.get_moves_made()))\n",
    "        #print(tictactoe.get_board())\n",
    "    rewards[ep_idx] = tictactoe.get_reward(1)\n",
    "    tictactoe.reset_board()\n",
    "pd.Series(rewards).rolling(100).mean().plot()"
   ]
  },
  {
   "cell_type": "markdown",
   "id": "controversial-hobby",
   "metadata": {},
   "source": [
    "#### Manual play"
   ]
  },
  {
   "cell_type": "code",
   "execution_count": 132,
   "id": "frozen-redhead",
   "metadata": {},
   "outputs": [
    {
     "name": "stdout",
     "output_type": "stream",
     "text": [
      "Welcome to TicTacToe. \n",
      "\n",
      "You can make a move by selecting one of the following letters:\n",
      "[['a' 'b' 'c']\n",
      " ['d' 'e' 'f']\n",
      " ['g' 'h' 'i']]\n",
      "You start, the computer will take the next move\n",
      "\n",
      "Initial board:\n",
      "Computer is thinking\n",
      "[[0. 0. 0.]\n",
      " [0. 1. 0.]\n",
      " [0. 0. 0.]]\n"
     ]
    },
    {
     "name": "stdin",
     "output_type": "stream",
     "text": [
      "Your move!:  a\n"
     ]
    },
    {
     "name": "stdout",
     "output_type": "stream",
     "text": [
      "[[-1.  0.  0.]\n",
      " [ 0.  1.  0.]\n",
      " [ 0.  0.  0.]]\n",
      "Computer is thinking\n",
      "[[-1.  0.  0.]\n",
      " [ 1.  1.  0.]\n",
      " [ 0.  0.  0.]]\n"
     ]
    },
    {
     "name": "stdin",
     "output_type": "stream",
     "text": [
      "Your move!:  f\n"
     ]
    },
    {
     "name": "stdout",
     "output_type": "stream",
     "text": [
      "[[-1.  0.  0.]\n",
      " [ 1.  1. -1.]\n",
      " [ 0.  0.  0.]]\n",
      "Computer is thinking\n",
      "[[-1.  0.  1.]\n",
      " [ 1.  1. -1.]\n",
      " [ 0.  0.  0.]]\n"
     ]
    },
    {
     "name": "stdin",
     "output_type": "stream",
     "text": [
      "Your move!:  g\n"
     ]
    },
    {
     "name": "stdout",
     "output_type": "stream",
     "text": [
      "[[-1.  0.  1.]\n",
      " [ 1.  1. -1.]\n",
      " [-1.  0.  0.]]\n",
      "Computer is thinking\n",
      "[[-1.  0.  1.]\n",
      " [ 1.  1. -1.]\n",
      " [-1.  0.  1.]]\n"
     ]
    },
    {
     "name": "stdin",
     "output_type": "stream",
     "text": [
      "Your move!:  b\n"
     ]
    },
    {
     "name": "stdout",
     "output_type": "stream",
     "text": [
      "[[-1. -1.  1.]\n",
      " [ 1.  1. -1.]\n",
      " [-1.  0.  1.]]\n"
     ]
    }
   ],
   "source": [
    "tictactoe = Tictoe(3)\n",
    "\n",
    "print('''Welcome to TicTacToe. \n",
    "\n",
    "You can make a move by selecting one of the following letters:''')\n",
    "letters = ['a', 'b', 'c', 'd', 'e', 'f', 'g', 'h', 'i']\n",
    "print(np.array(letters).reshape(3,3))\n",
    "print('''You start, the computer will take the next move\n",
    "\n",
    "Initial board:''')\n",
    "\n",
    "player_tree.set_params(epsilon = 0)\n",
    "move_history = ''\n",
    "while not tictactoe.is_endstate():\n",
    "    print('Computer is thinking')\n",
    "    tictactoe = player_tree.make_move(tictactoe, verbose=True)\n",
    "    print(tictactoe.get_board())\n",
    "    \n",
    "    if not tictactoe.is_endstate():\n",
    "        player_move = input('Your move!: ')\n",
    "        tictactoe.make_move(-1, player_move)\n",
    "        print(tictactoe.get_board())"
   ]
  },
  {
   "cell_type": "markdown",
   "id": "forbidden-vanilla",
   "metadata": {},
   "source": [
    "# Insights tijdens dev\n",
    "\n",
    "- Ik begon met een state die afhankelijk was van de volgorde waarin je op die state uitkwam. De key was dan bv 'ebad'. Maar we willen eigenlijk helemaal niet. Het probleem is hier dat we dan een veel te grote state space krijgen, en alleen maar gaan leren als we specifiek op die bepaalde stand op het bord komen via een specifieke route. Nu kijken we alleen naar stand op het bord. \n",
    "- Hash algo 'str' is erg traag, 3x penalty in performance. \n",
    "- De learning rate had ik erg hoog.\n",
    "- Paden bijhouden levert veel op qua inzicht in wat er precies gebeurt\n",
    "- Ik begon met alleen leren op de eigen qtable. Maar we leren met twee agents tegelijkertijd. Dus we moeten ook de rewards van de andere player kunnen inzien. Daar moeten we dan minmax achtig op reageren, i.e. als hij hoog scoort dan geeft die state een negatieve reward. \n",
    "\n",
    "# Nog te doen\n",
    "- Trainen tegen betere tegenstander, tegen zichzelf is wel shit. Bijvoorbeeld de treesearch die we eerder maakten. Of een soort bootstrap. \n",
    "    - Geprobeerd: player 2 een hogere epsilon. Dan speelt nr1 tegen een meer random tegenstander. \n",
    "    - Spelen tegen de tree werkt goed. We gaan van ingemaakt worden naar het erg goed doen. \n",
    "- Meer optimale hash code, [bv deze](https://stackoverflow.com/questions/806151/how-to-hash-a-large-object-dataset-in-python/806342#806342)\n",
    "- Wat verkennend werk doen rondom de hyperparams alpha, gamma en epsilon. \n",
    "- Betere validatie dan weer tegen zichzelf. Bv tegen de treesearch zou goed zijn. \n",
    "    - Validatie met de tree laat zien dat de RL-agent het beter dan een random agent doet. \n",
    "    - Helaas opent de RL-agent altijd met dezelfde zet, waarbij de volgende zet door de tree ook vaststaat. En je krijgt dus altijd het zelfde potje. "
   ]
  },
  {
   "cell_type": "markdown",
   "id": "fossil-garlic",
   "metadata": {},
   "source": [
    "\\begin{equation}\n",
    "Q^{new}(s_t, a_t) \\leftarrow Q(s_t, a_t) + \\alpha (r_t + \\gamma \\cdot \\max_a(s_{t+1}, a) - Q(s_t, a_t))\n",
    "\\end{equation}\n",
    "\n",
    "where:\n",
    "\n",
    "- $Q^{new}(s_t, a_t)$, is the new Q-value for the given action-value pair for state $s_t$ and action $a_t$. \n",
    "- $Q(s_t, a_t)$, the previous Q-value that was recorded in the Q-table.\n",
    "- $\\alpha$ the learning rate. How heavily should the new Q-value be influenced by what we are going to learn in this new step?\n",
    "- $r_t$ the (short-term) reward we got for taking the $\\epsilon$-greedy step. \n",
    "- $max_a(s_{t+1}, a)$ is the estimate of optimal future value for state $s_{t+1}$, i.e. the maximum Q value for that state $s_{t+1}$. \n",
    "\n",
    "A slight rewrite of the function yields additional insight:\n",
    "\n",
    "\\begin{equation}\n",
    "Q^{new}(s_t, a_t) \\leftarrow (1-\\alpha) Q(s_t, a_t) + \\alpha r_t + \\alpha\\gamma \\max_a(s_{t+1}, a)\n",
    "\\end{equation}\n",
    "\n",
    "where:\n",
    "- $(1-\\alpha) Q(s_t, a_t)$ is the current value of Q weighted by the learning rate. So, if the learning rate is zero, the new value is simply the old value. This essentially means the algorithm is not learning anything new. An alpha value of 1 simply discards this old value and completely relies on the new Q value calculated by the other terms. Values in between 0 and 1 allow you to control how fast learning progresses. A balance between learning fast enough, but not getting overly focused on short term gains is part of the challenge. \n",
    "- $\\alpha r_t$ the short-term reward we got from taking the $\\epsilon$-greedy action we took. Like before, an $\\alpha$ of 1 ensures completely focusing on the short-term reward, and an $\\alpha$ of 0 completely disregards what reward we got. \n",
    "- $\\alpha\\gamma \\max_a(s_{t+1}, a)$ the largest potential future Q-value we could obtain in the actions that follow this particular state. It hints towards the potential (long-term) value taking action $a_t$ in state $s_t$. \n",
    "\n",
    "So, to update the value $Q$ of taking action $a_t$ given a state $s_t$ we balance the old value we got versus the short term reward and the potential long-term value the next steps after this action provides. "
   ]
  }
 ],
 "metadata": {
  "kernelspec": {
   "display_name": "Python 3",
   "language": "python",
   "name": "python3"
  },
  "language_info": {
   "codemirror_mode": {
    "name": "ipython",
    "version": 3
   },
   "file_extension": ".py",
   "mimetype": "text/x-python",
   "name": "python",
   "nbconvert_exporter": "python",
   "pygments_lexer": "ipython3",
   "version": "3.8.5"
  }
 },
 "nbformat": 4,
 "nbformat_minor": 5
}
