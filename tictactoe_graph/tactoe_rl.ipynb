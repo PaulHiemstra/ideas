{
 "cells": [
  {
   "cell_type": "markdown",
   "id": "exciting-woman",
   "metadata": {},
   "source": [
    "# \n",
    "\n",
    "[Insprired by](https://towardsdatascience.com/reinforcement-learning-implement-tictactoe-189582bea542), see also chapter 6.5 of Sutton etal. \n",
    "\n",
    "- https://towardsdatascience.com/simple-reinforcement-learning-q-learning-fcddc4b6fe56\n",
    "- https://en.wikipedia.org/wiki/Q-learning\n",
    "- https://www.learndatasci.com/tutorials/reinforcement-q-learning-scratch-python-openai-gym/"
   ]
  },
  {
   "cell_type": "code",
   "execution_count": 4,
   "id": "cooperative-jacob",
   "metadata": {},
   "outputs": [],
   "source": [
    "import numpy as np\n",
    "import pandas as pd\n",
    "import copy\n",
    "\n",
    "class Tictoe:\n",
    "    def __init__(self, size):\n",
    "        self.size = size\n",
    "        self.board_size = size*size\n",
    "        self.board = np.zeros(self.board_size)\n",
    "        self.letters_to_move = ['a', 'b', 'c', 'd', 'e', 'f', 'g', 'h', 'i'][:self.board_size]\n",
    "        self.possible_next_moves = copy.deepcopy(self.letters_to_move)\n",
    "        self.moves_made = ''\n",
    "    def reset_board(self):\n",
    "        self.board = np.zeros(self.board_size)\n",
    "        self.letters_to_move = ['a', 'b', 'c', 'd', 'e', 'f', 'g', 'h', 'i'][:self.board_size]\n",
    "        self.possible_next_moves = copy.deepcopy(self.letters_to_move)\n",
    "        self.moves_made = ''\n",
    "    def get_board(self):\n",
    "        return self.board.reshape([self.size, self.size])\n",
    "    def make_move(self, who, where, verbose=False):\n",
    "        self.board[self.letters_to_move.index(where)] = who\n",
    "        self.moves_made += where\n",
    "        self.possible_next_moves.remove(where)\n",
    "        if verbose:\n",
    "            print(self.get_board())\n",
    "            print('Is game done?: ', self.is_endstate())\n",
    "        return [self.moves_made, self.get_reward(who)]\n",
    "    def get_sums_of_board(self):\n",
    "        local_board = self.get_board()\n",
    "        return np.concatenate([local_board.sum(axis=0),             # columns\n",
    "                               local_board.sum(axis=1),             # rows\n",
    "                               np.trace(local_board),               # diagonal\n",
    "                               np.trace(np.fliplr(local_board))], axis=None)   # other diagonal\n",
    "    def is_endstate(self):\n",
    "        someone_won = len(np.intersect1d((self.size, -self.size), self.get_sums_of_board())) > 0\n",
    "        draw = np.count_nonzero(self.board) == (self.size * self.size) - 1\n",
    "        return someone_won or draw\n",
    "    def get_reward(self, who):\n",
    "        sums = self.get_sums_of_board()\n",
    "        if self.size in sums:       # The 1 player won\n",
    "            #print('1.', end='')\n",
    "            return who * 10\n",
    "        elif -self.size in sums:    # The -1 player won\n",
    "            #print('-1.', end='')\n",
    "            return who * -10\n",
    "        elif np.count_nonzero(self.board) == (self.size * self.size) - 1:  # Draw\n",
    "            #print('0.', end='')\n",
    "            return 5\n",
    "        else:\n",
    "            return 0  # Favor shorter games, i.e. taking the fastest road to victory. \n",
    "    def get_moves_made(self):\n",
    "        return self.moves_made\n",
    "    def get_current_state(self):\n",
    "        return self.moves_made\n",
    "    def get_possible_next_states(self):\n",
    "        return [self.moves_made + next_move for next_move in self.possible_next_moves]\n",
    "    def get_possible_next_moves(self):\n",
    "        return self.possible_next_moves.copy()  # Make a copy to ensures things work out in the game loop when we make the next move"
   ]
  },
  {
   "cell_type": "code",
   "execution_count": 5,
   "id": "manufactured-swedish",
   "metadata": {},
   "outputs": [
    {
     "data": {
      "text/plain": [
       "['a', 'b', 'c', 'd', 'e', 'f', 'g', 'h', 'i']"
      ]
     },
     "execution_count": 5,
     "metadata": {},
     "output_type": "execute_result"
    }
   ],
   "source": [
    "tactoe = Tictoe(3)\n",
    "tactoe.get_possible_next_moves()"
   ]
  },
  {
   "cell_type": "markdown",
   "id": "dutch-rates",
   "metadata": {},
   "source": [
    "# Make the Q-table"
   ]
  },
  {
   "cell_type": "code",
   "execution_count": 152,
   "id": "destroyed-nightmare",
   "metadata": {},
   "outputs": [],
   "source": [
    "import random\n",
    "from tqdm import tqdm\n",
    "\n",
    "def keywithmaxval(d):\n",
    "     \"\"\" a) create a list of the dict's keys and values; \n",
    "         b) return the key with the max value\n",
    "         \n",
    "         \n",
    "     Copied from https://stackoverflow.com/questions/268272/getting-key-with-maximum-value-in-dictionary\"\"\"  \n",
    "     v=list(d.values())\n",
    "     k=list(d.keys())\n",
    "     return k[v.index(max(v))]\n",
    "\n",
    "class Player:\n",
    "    def __init__(self, id, alpha = 0.5, gamma = 0.6, epsilon = 0.1):\n",
    "        self.qtable = {}\n",
    "        self.id = id\n",
    "        self.alpha = alpha\n",
    "        self.gamma = gamma\n",
    "        self.epsilon = epsilon\n",
    "    def get_qtable(self):\n",
    "        return self.qtable\n",
    "    def get_id(self):\n",
    "        return self.id\n",
    "    def set_params(self, \n",
    "                   alpha = 0.5,       # How fast do we learn from new info\n",
    "                   gamma = 0.6,       # How much are we focused on the short or the long term. 1 = max long term, 0 is max short term\n",
    "                   epsilon = 0.1):    # exploration vs exploitation\n",
    "        self.alpha = alpha\n",
    "        self.gamma = gamma\n",
    "        self.epsilon = epsilon\n",
    "    def make_move(self, game, opponent_qtable, verbose=False):\n",
    "        if game.is_endstate():\n",
    "            # If the game is done by the time we get to make a move, simply skip this step\n",
    "            return game\n",
    "        # Make a choice what move to take next\n",
    "        possible_moves = game.get_possible_next_moves()\n",
    "        current_state = game.get_current_state()\n",
    "        \n",
    "        # If the current_state does not exist in the qtable, insert it\n",
    "        if current_state not in self.qtable:\n",
    "            # New entry in the qtable, init to zero. \n",
    "            #self.qtable[current_state] = dict(zip([current_state + move for move in possible_moves], \n",
    "            #                                      np.random.uniform(0, 0.1, len(possible_moves))))  # initialize on a small amount of random noise. Promotes varyiety\n",
    "            self.qtable[current_state] = dict(zip([current_state + move for move in possible_moves], \n",
    "                                                  np.zeros(len(possible_moves))))  \n",
    "            \n",
    "        # Insert epsilon choice here, exploit or explore\n",
    "        if random.uniform(0, 1) < self.epsilon:\n",
    "            new_state, reward = game.make_move(self.id, random.choice(possible_moves))   # Random choice\n",
    "        else:  # Exploit our qtable\n",
    "            new_state, reward = game.make_move(self.id, keywithmaxval(self.qtable[current_state])[-1])   # Optimal choice\n",
    "        if self.epsilon == 0:    # If we set epsilon to 0, we only want to play. No updating needed. \n",
    "            return game\n",
    "        \n",
    "        # Update the qtable\n",
    "        # Example qtable entry\n",
    "        #  \n",
    "        #  qtable['abd'] = {'abde': 2.1, 'abdf': 1.3, etc}\n",
    "        # \n",
    "        # where 'abde': 2.1 is the q-value of taking action 'e' in state 'abd'. \n",
    "        # Note that the qtable is ragged. Not all moves are possible from each state\n",
    "        old_value = self.qtable[current_state][new_state]\n",
    "        try:\n",
    "            next_max = max(-np.array(list(opponent_qtable[new_state].values())))\n",
    "        except KeyError:  # In case the tree for next state has not been made yet, simply return 0\n",
    "            next_max = 0\n",
    "        new_value = (1 - self.alpha) * old_value + self.alpha * (reward + self.gamma * next_max)\n",
    "        if verbose:\n",
    "            print('old: ', old_value, 'new_value: ', new_value, 'alpha: ', self.alpha, 'reward: ', reward, 'gamma: ', self.gamma, 'next_max: ', next_max)\n",
    "        self.qtable[current_state][new_state] = new_value\n",
    "\n",
    "        if verbose:\n",
    "            print(self.id, current_state, self.qtable[current_state], new_state, old_value, new_value)\n",
    "        \n",
    "        return game\n",
    "\n",
    "def play_tictactoe(no_episodes, player1, player2, verbose=False):\n",
    "    tactoe = Tictoe(3)       \n",
    "\n",
    "    p1_rewards = np.zeros(no_episodes)\n",
    "    p2_rewards = np.zeros(no_episodes)\n",
    "    for ep_idx in tqdm(range(no_episodes)):\n",
    "        stop = False\n",
    "        while not stop:\n",
    "            tactoe = player1.make_move(tactoe, player2.get_qtable(), verbose=verbose)\n",
    "            tactoe = player2.make_move(tactoe, player1.get_qtable(), verbose=verbose)\n",
    "            if tactoe.is_endstate():\n",
    "                p1_rewards[ep_idx] = tactoe.get_reward(player1.get_id())\n",
    "                p2_rewards[ep_idx] = tactoe.get_reward(player2.get_id())\n",
    "                tactoe.reset_board()\n",
    "                stop = True\n",
    "    return [player1, player2, p1_rewards, p2_rewards]"
   ]
  },
  {
   "cell_type": "code",
   "execution_count": 185,
   "id": "handy-ferry",
   "metadata": {},
   "outputs": [
    {
     "name": "stderr",
     "output_type": "stream",
     "text": [
      "100%|██████████| 1000000/1000000 [12:33<00:00, 1326.84it/s]\n"
     ]
    },
    {
     "name": "stdout",
     "output_type": "stream",
     "text": [
      "\n",
      "\n",
      "17985\n",
      "25321\n"
     ]
    },
    {
     "data": {
      "text/plain": [
       "<AxesSubplot:>"
      ]
     },
     "execution_count": 185,
     "metadata": {},
     "output_type": "execute_result"
    },
    {
     "data": {
      "image/png": "[encoded data removed]",
      "text/plain": [
       "<Figure size 432x288 with 1 Axes>"
      ]
     },
     "metadata": {
      "needs_background": "light"
     },
     "output_type": "display_data"
    }
   ],
   "source": [
    "player1 = Player(1, \n",
    "                 alpha = 0.3, \n",
    "                 gamma = 0.5,\n",
    "                 epsilon = 0.3)\n",
    "player2 = Player(-1, \n",
    "                 alpha = 0.3,\n",
    "                 gamma = 0.5, \n",
    "                 epsilon = 0.3)\n",
    "\n",
    "# Training the policy\n",
    "player1, player2, p1_rewards, p2_rewards = play_tictactoe(1000000, player1, player2, verbose=False)\n",
    "print('\\n')\n",
    "print(len(player1.get_qtable()))\n",
    "print(len(player2.get_qtable()))\n",
    "pd.Series(p1_rewards).rolling(1000).mean().plot()\n",
    "pd.Series(p2_rewards).rolling(1000).mean().plot()"
   ]
  },
  {
   "cell_type": "code",
   "execution_count": null,
   "id": "confident-kitchen",
   "metadata": {},
   "outputs": [],
   "source": [
    "player1.get_qtable()"
   ]
  },
  {
   "cell_type": "code",
   "execution_count": null,
   "id": "diagnostic-temple",
   "metadata": {},
   "outputs": [],
   "source": [
    "# Validating the model. Setting epsilon to 0 ensures always using the optimal strategy\n",
    "\n",
    "player1.set_params(epsilon = 0)\n",
    "random_player = Player(1, epsilon=1.0)\n",
    "player2.set_params(epsilon = 0)\n",
    "\n",
    "player1, player2, p1_rewards, p2_rewards = play_tictactoe(10, player1, player2, verbose=False)\n",
    "pd.Series(p1_rewards).mean()"
   ]
  },
  {
   "cell_type": "code",
   "execution_count": null,
   "id": "introductory-reality",
   "metadata": {},
   "outputs": [],
   "source": [
    "player1.get_qtable()"
   ]
  },
  {
   "cell_type": "code",
   "execution_count": null,
   "id": "simple-wilderness",
   "metadata": {},
   "outputs": [],
   "source": [
    "tictactoe = Tictoe(3)\n",
    "\n",
    "print('''Welcome to TicTacToe. \n",
    "\n",
    "You can make a move by selecting one of the following letters:''')\n",
    "letters = ['a', 'b', 'c', 'd', 'e', 'f', 'g', 'h', 'i']\n",
    "print(np.array(letters).reshape(3,3))\n",
    "print('''You start, the computer will take the next move\n",
    "\n",
    "Initial board:''')\n",
    "\n",
    "player1.set_params(epsilon = 0)\n",
    "move_history = ''\n",
    "while not tictactoe.is_endstate():\n",
    "    print('Computer is thinking')\n",
    "    tictactoe = player1.make_move(tictactoe, {}, verbose=True)\n",
    "    print(tictactoe.get_board())\n",
    "    \n",
    "    if not tictactoe.is_endstate():\n",
    "        player_move = input('Your move!: ')\n",
    "        tictactoe.make_move(-1, player_move)\n",
    "        print(tictactoe.get_board())"
   ]
  },
  {
   "cell_type": "code",
   "execution_count": 194,
   "id": "expected-paper",
   "metadata": {},
   "outputs": [],
   "source": [
    "import dill\n",
    "\n",
    "with open('player1_block_aebc.pkl', 'wb') as player_file:\n",
    "    dill.dump(player1, player_file)"
   ]
  },
  {
   "cell_type": "markdown",
   "id": "understanding-shoulder",
   "metadata": {},
   "source": [
    "# Wat te doen\n",
    "We should:\n",
    "- play the game tictactoe with an empty state-action table\n",
    "- let the computer play against itself\n",
    "- when the game ends (win a, win b or loss) the reward for the given player is backpropagated through the network of possible states. "
   ]
  },
  {
   "cell_type": "markdown",
   "id": "administrative-webcam",
   "metadata": {},
   "source": [
    "\\begin{equation}\n",
    "Q^{new}(s_t, a_t) \\leftarrow Q(s_t, a_t) + \\alpha (r_t + \\gamma \\cdot \\max_a(s_{t+1}, a) - Q(s_t, a_t))\n",
    "\\end{equation}\n",
    "\n",
    "where:\n",
    "\n",
    "- $Q^{new}(s_t, a_t)$, is the new Q-value for the given action-value pair for state $s_t$ and action $a_t$. \n",
    "- $Q(s_t, a_t)$, the previous Q-value that was recorded in the Q-table.\n",
    "- $\\alpha$ the learning rate. How heavily should the new Q-value be influenced by what we are going to learn in this new step?\n",
    "- $r_t$ the (short-term) reward we got for taking the $\\epsilon$-greedy step. \n",
    "- $max_a(s_{t+1}, a)$ is the estimate of optimal future value for state $s_{t+1}$, i.e. the maximum Q value for that state $s_{t+1}$. \n",
    "\n",
    "A slight rewrite of the function yields additional insight:\n",
    "\n",
    "\\begin{equation}\n",
    "Q^{new}(s_t, a_t) \\leftarrow (1-\\alpha) Q(s_t, a_t) + \\alpha r_t + \\alpha\\gamma \\max_a(s_{t+1}, a)\n",
    "\\end{equation}\n",
    "\n",
    "where:\n",
    "- $(1-\\alpha) Q(s_t, a_t)$ is the current value of Q weighted by the learning rate. So, if the learning rate is zero, the new value is simply the old value. This essentially means the algorithm is not learning anything new. An alpha value of 1 simply discards this old value and completely relies on the new Q value calculated by the other terms. Values in between 0 and 1 allow you to control how fast learning progresses. A balance between learning fast enough, but not getting overly focused on short term gains is part of the challenge. \n",
    "- $\\alpha r_t$ the short-term reward we got from taking the $\\epsilon$-greedy action we took. Like before, an $\\alpha$ of 1 ensures completely focusing on the short-term reward, and an $\\alpha$ of 0 completely disregards what reward we got. \n",
    "- $\\alpha\\gamma \\max_a(s_{t+1}, a)$ the largest potential future Q-value we could obtain in the actions that follow this particular state. It hints towards the potential (long-term) value taking action $a_t$ in state $s_t$. \n",
    "\n",
    "So, to update the value $Q$ of taking action $a_t$ given a state $s_t$ we balance the old value we got versus the short term reward and the potential long-term value the next steps after this action provides. "
   ]
  }
 ],
 "metadata": {
  "kernelspec": {
   "display_name": "Python 3",
   "language": "python",
   "name": "python3"
  },
  "language_info": {
   "codemirror_mode": {
    "name": "ipython",
    "version": 3
   },
   "file_extension": ".py",
   "mimetype": "text/x-python",
   "name": "python",
   "nbconvert_exporter": "python",
   "pygments_lexer": "ipython3",
   "version": "3.8.5"
  }
 },
 "nbformat": 4,
 "nbformat_minor": 5
}
