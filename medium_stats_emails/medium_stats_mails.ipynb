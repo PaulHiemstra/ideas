{
 "cells": [
  {
   "cell_type": "code",
   "execution_count": null,
   "id": "opened-vintage",
   "metadata": {},
   "outputs": [],
   "source": [
    "# https://www.lifewire.com/how-to-export-your-emails-from-gmail-as-mbox-files-1171881\n",
    "# "
   ]
  },
  {
   "cell_type": "code",
   "execution_count": 158,
   "id": "varied-fruit",
   "metadata": {},
   "outputs": [],
   "source": [
    "import mailbox\n",
    "import pandas as pd\n",
    "from datetime import datetime \n",
    "\n",
    "def cast_medium_int(s):\n",
    "    # To be able to deal with '3.8k'\n",
    "    return int(s.replace('k', '00').replace('K', '00').replace('.', ''))\n",
    "\n",
    "def get_mail_body(message):\n",
    "    return message.get_payload()[0].get_payload()\n",
    "\n",
    "def get_total_views(body):\n",
    "    return cast_medium_int(body.split('\\r\\n')[3].split(' ')[0])\n",
    "\n",
    "def get_total_reads(body):\n",
    "    return cast_medium_int(body.split('\\r\\n')[7].split(' ')[0])\n",
    "\n",
    "def get_total_fans(body):\n",
    "    split_body = body.split('\\r\\n')\n",
    "    if ('Fans' in split_body) or ('Fan' in split_body):   # There are no fans this week :(\n",
    "        return cast_medium_int(split_body[11].split(' ')[0])\n",
    "    else:\n",
    "        return 0\n",
    "\n",
    "def get_stats_from_message(message):\n",
    "    body = get_mail_body(message)\n",
    "    df = pd.DataFrame({'date': [get_date_from_message(message)], \n",
    "                         'views': [get_total_views(body)],\n",
    "                         'reads': [get_total_reads(body)],\n",
    "                         'fans' : [get_total_fans(body)]})\n",
    "    return df.set_index('date')\n",
    "\n",
    "def get_date_from_message(message):\n",
    "    return datetime.strptime(message['Date'], '%a, %d %b %Y %H:%M:%S +0000 (UTC)')"
   ]
  },
  {
   "cell_type": "code",
   "execution_count": 165,
   "id": "nonprofit-wednesday",
   "metadata": {},
   "outputs": [
    {
     "data": {
      "text/plain": [
       "array([<AxesSubplot:xlabel='date'>, <AxesSubplot:xlabel='date'>,\n",
       "       <AxesSubplot:xlabel='date'>], dtype=object)"
      ]
     },
     "execution_count": 165,
     "metadata": {},
     "output_type": "execute_result"
    },
    {
     "data": {
      "image/png": "[encoded data removed]",
      "text/plain": [
       "<Figure size 432x288 with 3 Axes>"
      ]
     },
     "metadata": {
      "needs_background": "light"
     },
     "output_type": "display_data"
    }
   ],
   "source": [
    "main_stats = pd.concat([get_stats_from_message(m) for m in mailbox.mbox('Takeout/E-mail/MediumStats.mbox')])\n",
    "main_stats.plot(subplots=True, logy=True)"
   ]
  },
  {
   "cell_type": "code",
   "execution_count": 160,
   "id": "endless-minnesota",
   "metadata": {},
   "outputs": [
    {
     "data": {
      "text/plain": [
       "87"
      ]
     },
     "execution_count": 160,
     "metadata": {},
     "output_type": "execute_result"
    }
   ],
   "source": [
    "main_stats['fans'].sum()"
   ]
  },
  {
   "cell_type": "code",
   "execution_count": 178,
   "id": "iraqi-child",
   "metadata": {},
   "outputs": [
    {
     "name": "stdout",
     "output_type": "stream",
     "text": [
      "280\n"
     ]
    }
   ],
   "source": [
    "import re\n",
    "\n",
    "match = re.search('Views so far\\r\\n(\\d+)', bla)\n",
    "if match:\n",
    "    print(match.group(1))"
   ]
  },
  {
   "cell_type": "code",
   "execution_count": 177,
   "id": "pregnant-object",
   "metadata": {},
   "outputs": [
    {
     "data": {
      "text/plain": [
       "'Your weekly writer summary for March 12, 2021\\r\\nYour stories on Medium\\r\\n>From March 5 to March 12, 2021, your stories received:\\r\\n573 (https://medium.com/me/stats?source=3Demail-256545883c97-1615511622211-=\\r\\nwriter_stats)\\r\\n\\r\\nViews\\r\\n213 (https://medium.com/me/stats?source=3Demail-256545883c97-1615511622211-=\\r\\nwriter_stats)\\r\\n\\r\\nReads\\r\\n12 (https://medium.com/me/stats?source=3Demail-256545883c97-1615511622211-w=\\r\\nriter_stats)\\r\\n\\r\\nFans\\r\\n\\r\\nAn AI agent plays tic-tac-toe (part 1): building the opponent to play again=\\r\\nst (https://medium.com/me/stats/post/bb5af74fded1?source=3Demail-256545883c=\\r\\n97-1615511622211-writer_stats)\\r\\n\\r\\nViews so far\\r\\n280 (https://medium.com/me/stats/post/bb5af74fded1?source=3Demail-256545883=\\r\\nc97-1615511622211-writer_stats)\\r\\n\\r\\nApplause from\\r\\n\\r\\nAn AI agent plays tic-tac-toe (part 2): speeding up recursive functions usi=\\r\\nng memoization (https://medium.com/me/stats/post/97253529aea8?source=3Demai=\\r\\nl-256545883c97-1615511622211-writer_stats)\\r\\n\\r\\nViews so far\\r\\n137 (https://medium.com/me/stats/post/97253529aea8?source=3Demail-256545883=\\r\\nc97-1615511622211-writer_stats)\\r\\n\\r\\nApplause from\\r\\n\\r\\nAltair plot deconstruction: visualizing the correlation structure of weathe=\\r\\nr data (https://medium.com/me/stats/post/38fb5668c5b1?source=3Demail-256545=\\r\\n883c97-1615511622211-writer_stats)\\r\\n\\r\\nViews this week\\r\\n+88 (https://medium.com/me/stats/post/38fb5668c5b1?source=3Demail-256545883=\\r\\nc97-1615511622211-writer_stats)\\r\\n\\r\\nAdvanced functional programming for data science: building code architectur=\\r\\nes with function=E2=80=A6 (https://medium.com/me/stats/post/dd989cc3b0da?so=\\r\\nurce=3Demail-256545883c97-1615511622211-writer_stats)\\r\\n\\r\\nViews this week\\r\\n+34 (https://medium.com/me/stats/post/dd989cc3b0da?source=3Demail-256545883=\\r\\nc97-1615511622211-writer_stats)\\r\\n\\r\\nExpanding your regression repertoire with regularisation (https://medium.co=\\r\\nm/me/stats/post/903d2c9f7b28?source=3Demail-256545883c97-1615511622211-writ=\\r\\ner_stats)\\r\\n\\r\\nViews this week\\r\\n+12 (https://medium.com/me/stats/post/903d2c9f7b28?source=3Demail-256545883=\\r\\nc97-1615511622211-writer_stats)\\r\\n\\r\\nThere is no data science like applied data science (https://medium.com/me/s=\\r\\ntats/post/99b6c5308b5a?source=3Demail-256545883c97-1615511622211-writer_sta=\\r\\nts)\\r\\n\\r\\nViews this week\\r\\n+8 (https://medium.com/me/stats/post/99b6c5308b5a?source=3Demail-256545883c=\\r\\n97-1615511622211-writer_stats)\\r\\n\\r\\nTop recent followers:\\r\\nJean-S=C3=A9bastien Gonsette (https://medium.com/@jeansebastien.gonsette?so=\\r\\nurce=3Demail-256545883c97-1615511622211-writer_stats)\\r\\n\\r\\nPassionate software developer https://jsgonsette.github.io/\\r\\nFollowed by 2 people\\r\\n\\r\\nFollowing: https://medium.com/@jeansebastien.gonsette?source=3Demail-256545=\\r\\n883c97-1615511622211-writer_stats\\r\\n\\r\\nEnroll in the Medium Partner Program  to earn money for your stories. (http=\\r\\ns://medium.com/earn)\\r\\n\\r\\nView all stats: https://medium.com/me/stats?source=3Demail-256545883c97-161=\\r\\n5511622211-writer_stats\\r\\n---\\r\\nSent by Medium, P.O. Box 602, San Francisco, CA 94104-0602\\r\\nTo unsubscribe, visit https://medium.com/me/email-settings/256545883c97/865=\\r\\n0d1c72b06?source=3Demail-256545883c97-1615511622211-writer_stats&type=3Dcon=\\r\\ntent\\r\\n'"
      ]
     },
     "execution_count": 177,
     "metadata": {},
     "output_type": "execute_result"
    }
   ],
   "source": [
    "messages = list(mailbox.mbox('Takeout/E-mail/MediumStats.mbox'))\n",
    "get_stats_from_message(messages[2])\n",
    "#get_total_fans()\n",
    "bla = get_mail_body(messages[len(messages)-16])\n",
    "bla"
   ]
  },
  {
   "cell_type": "code",
   "execution_count": null,
   "id": "suitable-permission",
   "metadata": {},
   "outputs": [],
   "source": [
    "bla"
   ]
  },
  {
   "cell_type": "code",
   "execution_count": 113,
   "id": "first-mediterranean",
   "metadata": {},
   "outputs": [
    {
     "data": {
      "text/plain": [
       "3"
      ]
     },
     "execution_count": 113,
     "metadata": {},
     "output_type": "execute_result"
    }
   ],
   "source": [
    "int('3'.replace('k', '00').replace('.', ''))"
   ]
  },
  {
   "cell_type": "code",
   "execution_count": 99,
   "id": "favorite-joshua",
   "metadata": {},
   "outputs": [
    {
     "data": {
      "text/plain": [
       "True"
      ]
     },
     "execution_count": 99,
     "metadata": {},
     "output_type": "execute_result"
    }
   ],
   "source": [
    "'Fan' in get_mail_body(messages[0]).split('\\r\\n')"
   ]
  },
  {
   "cell_type": "code",
   "execution_count": 38,
   "id": "found-sitting",
   "metadata": {},
   "outputs": [
    {
     "data": {
      "text/plain": [
       "['Your weekly writer summary for May 29, 2020',\n",
       " 'Your stories on Medium',\n",
       " '>From May 22 to May 29, 2020, your stories received:',\n",
       " '110 (https://medium.com/me/stats?source=3Demail-256545883c97-1590717323513-=',\n",
       " 'writer_stats)',\n",
       " '',\n",
       " 'Views',\n",
       " '34 (https://medium.com/me/stats?source=3Demail-256545883c97-1590717323513-w=',\n",
       " 'riter_stats)',\n",
       " '',\n",
       " 'Reads',\n",
       " '1 (https://medium.com/me/stats?source=3Demail-256545883c97-1590717323513-wr=',\n",
       " 'iter_stats)',\n",
       " '',\n",
       " 'Fan',\n",
       " '',\n",
       " '',\n",
       " 'Altair plot deconstruction: visualizing the correlation structure of weathe=',\n",
       " 'r data (https://medium.com/me/stats/post/38fb5668c5b1?source=3Demail-256545=',\n",
       " '883c97-1590717323513-writer_stats)',\n",
       " '',\n",
       " 'Views this week',\n",
       " '+68 (https://medium.com/me/stats/post/38fb5668c5b1?source=3Demail-256545883=',\n",
       " 'c97-1590717323513-writer_stats)',\n",
       " '',\n",
       " '',\n",
       " '',\n",
       " 'Advanced functional programming for data science: building code architectur=',\n",
       " 'es with function=E2=80=A6 (https://medium.com/me/stats/post/dd989cc3b0da?so=',\n",
       " 'urce=3Demail-256545883c97-1590717323513-writer_stats)',\n",
       " '',\n",
       " 'Views this week',\n",
       " '+33 (https://medium.com/me/stats/post/dd989cc3b0da?source=3Demail-256545883=',\n",
       " 'c97-1590717323513-writer_stats)',\n",
       " '',\n",
       " 'Applause from',\n",
       " '',\n",
       " '',\n",
       " 'Enroll in the Medium Partner Program  to earn money for your stories. (http=',\n",
       " 's://medium.com/creators)',\n",
       " '',\n",
       " '',\n",
       " 'View all stats: https://medium.com/me/stats?source=3Demail-256545883c97-159=',\n",
       " '0717323513-writer_stats',\n",
       " '---',\n",
       " 'Sent by Medium, P.O. Box 602, San Francisco, CA 94104-0602',\n",
       " 'To unsubscribe, visit https://medium.com/me/email-settings/256545883c97/12c=',\n",
       " '0cfe75b5e?source=3Demail-256545883c97-1590717323513-writer_stats&type=3Dcon=',\n",
       " 'tent',\n",
       " '']"
      ]
     },
     "execution_count": 38,
     "metadata": {},
     "output_type": "execute_result"
    }
   ],
   "source": [
    "split_body = body.split('\\r\\n')\n",
    "split_body"
   ]
  }
 ],
 "metadata": {
  "kernelspec": {
   "display_name": "Python 3",
   "language": "python",
   "name": "python3"
  },
  "language_info": {
   "codemirror_mode": {
    "name": "ipython",
    "version": 3
   },
   "file_extension": ".py",
   "mimetype": "text/x-python",
   "name": "python",
   "nbconvert_exporter": "python",
   "pygments_lexer": "ipython3",
   "version": "3.8.5"
  }
 },
 "nbformat": 4,
 "nbformat_minor": 5
}
